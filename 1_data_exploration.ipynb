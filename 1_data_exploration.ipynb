{
 "cells": [
  {
   "cell_type": "markdown",
   "id": "cece0c9a",
   "metadata": {},
   "source": [
    "### Desafío Data Science - Juliana Plácido"
   ]
  },
  {
   "cell_type": "markdown",
   "id": "16429d9e",
   "metadata": {},
   "source": [
    "#### Notebook I\n",
    "Exploración primaria de datos"
   ]
  },
  {
   "cell_type": "code",
   "execution_count": 1,
   "id": "40f4203a",
   "metadata": {},
   "outputs": [],
   "source": [
    "#Importamos librerías\n",
    "import pandas as pd\n",
    "import numpy as np\n",
    "import matplotlib.pyplot as plt\n",
    "import seaborn as sns"
   ]
  },
  {
   "cell_type": "code",
   "execution_count": 2,
   "id": "c6a7563d",
   "metadata": {},
   "outputs": [
    {
     "name": "stderr",
     "output_type": "stream",
     "text": [
      "/Users/jplacido/opt/anaconda3/lib/python3.9/site-packages/IPython/core/interactiveshell.py:3444: DtypeWarning: Columns (1,6) have mixed types.Specify dtype option on import or set low_memory=False.\n",
      "  exec(code_obj, self.user_global_ns, self.user_ns)\n"
     ]
    }
   ],
   "source": [
    "#Levantamos la base de datos\n",
    "df = pd.read_csv('dataset_SCL .csv')"
   ]
  },
  {
   "cell_type": "code",
   "execution_count": 3,
   "id": "0e9c39f7",
   "metadata": {},
   "outputs": [
    {
     "data": {
      "text/plain": [
       "(68206, 18)"
      ]
     },
     "execution_count": 3,
     "metadata": {},
     "output_type": "execute_result"
    }
   ],
   "source": [
    "#Vemos la forma de nuestra base:\n",
    "df.shape"
   ]
  },
  {
   "cell_type": "code",
   "execution_count": 4,
   "id": "1e6d2454",
   "metadata": {},
   "outputs": [
    {
     "data": {
      "text/html": [
       "<div>\n",
       "<style scoped>\n",
       "    .dataframe tbody tr th:only-of-type {\n",
       "        vertical-align: middle;\n",
       "    }\n",
       "\n",
       "    .dataframe tbody tr th {\n",
       "        vertical-align: top;\n",
       "    }\n",
       "\n",
       "    .dataframe thead th {\n",
       "        text-align: right;\n",
       "    }\n",
       "</style>\n",
       "<table border=\"1\" class=\"dataframe\">\n",
       "  <thead>\n",
       "    <tr style=\"text-align: right;\">\n",
       "      <th></th>\n",
       "      <th>Fecha-I</th>\n",
       "      <th>Vlo-I</th>\n",
       "      <th>Ori-I</th>\n",
       "      <th>Des-I</th>\n",
       "      <th>Emp-I</th>\n",
       "      <th>Fecha-O</th>\n",
       "      <th>Vlo-O</th>\n",
       "      <th>Ori-O</th>\n",
       "      <th>Des-O</th>\n",
       "      <th>Emp-O</th>\n",
       "      <th>DIA</th>\n",
       "      <th>MES</th>\n",
       "      <th>AÑO</th>\n",
       "      <th>DIANOM</th>\n",
       "      <th>TIPOVUELO</th>\n",
       "      <th>OPERA</th>\n",
       "      <th>SIGLAORI</th>\n",
       "      <th>SIGLADES</th>\n",
       "    </tr>\n",
       "  </thead>\n",
       "  <tbody>\n",
       "    <tr>\n",
       "      <th>0</th>\n",
       "      <td>2017-01-01 23:30:00</td>\n",
       "      <td>226</td>\n",
       "      <td>SCEL</td>\n",
       "      <td>KMIA</td>\n",
       "      <td>AAL</td>\n",
       "      <td>2017-01-01 23:33:00</td>\n",
       "      <td>226</td>\n",
       "      <td>SCEL</td>\n",
       "      <td>KMIA</td>\n",
       "      <td>AAL</td>\n",
       "      <td>1.0</td>\n",
       "      <td>1.0</td>\n",
       "      <td>2017.0</td>\n",
       "      <td>Domingo</td>\n",
       "      <td>I</td>\n",
       "      <td>American Airlines</td>\n",
       "      <td>Santiago</td>\n",
       "      <td>Miami</td>\n",
       "    </tr>\n",
       "    <tr>\n",
       "      <th>1</th>\n",
       "      <td>2017-01-02 23:30:00</td>\n",
       "      <td>226</td>\n",
       "      <td>SCEL</td>\n",
       "      <td>KMIA</td>\n",
       "      <td>AAL</td>\n",
       "      <td>2017-01-02 23:39:00</td>\n",
       "      <td>226</td>\n",
       "      <td>SCEL</td>\n",
       "      <td>KMIA</td>\n",
       "      <td>AAL</td>\n",
       "      <td>2.0</td>\n",
       "      <td>1.0</td>\n",
       "      <td>2017.0</td>\n",
       "      <td>Lunes</td>\n",
       "      <td>I</td>\n",
       "      <td>American Airlines</td>\n",
       "      <td>Santiago</td>\n",
       "      <td>Miami</td>\n",
       "    </tr>\n",
       "    <tr>\n",
       "      <th>2</th>\n",
       "      <td>2017-01-03 23:30:00</td>\n",
       "      <td>226</td>\n",
       "      <td>SCEL</td>\n",
       "      <td>KMIA</td>\n",
       "      <td>AAL</td>\n",
       "      <td>2017-01-03 23:39:00</td>\n",
       "      <td>226</td>\n",
       "      <td>SCEL</td>\n",
       "      <td>KMIA</td>\n",
       "      <td>AAL</td>\n",
       "      <td>3.0</td>\n",
       "      <td>1.0</td>\n",
       "      <td>2017.0</td>\n",
       "      <td>Martes</td>\n",
       "      <td>I</td>\n",
       "      <td>American Airlines</td>\n",
       "      <td>Santiago</td>\n",
       "      <td>Miami</td>\n",
       "    </tr>\n",
       "    <tr>\n",
       "      <th>3</th>\n",
       "      <td>2017-01-04 23:30:00</td>\n",
       "      <td>226</td>\n",
       "      <td>SCEL</td>\n",
       "      <td>KMIA</td>\n",
       "      <td>AAL</td>\n",
       "      <td>2017-01-04 23:33:00</td>\n",
       "      <td>226</td>\n",
       "      <td>SCEL</td>\n",
       "      <td>KMIA</td>\n",
       "      <td>AAL</td>\n",
       "      <td>4.0</td>\n",
       "      <td>1.0</td>\n",
       "      <td>2017.0</td>\n",
       "      <td>Miercoles</td>\n",
       "      <td>I</td>\n",
       "      <td>American Airlines</td>\n",
       "      <td>Santiago</td>\n",
       "      <td>Miami</td>\n",
       "    </tr>\n",
       "    <tr>\n",
       "      <th>4</th>\n",
       "      <td>2017-01-05 23:30:00</td>\n",
       "      <td>226</td>\n",
       "      <td>SCEL</td>\n",
       "      <td>KMIA</td>\n",
       "      <td>AAL</td>\n",
       "      <td>2017-01-05 23:28:00</td>\n",
       "      <td>226</td>\n",
       "      <td>SCEL</td>\n",
       "      <td>KMIA</td>\n",
       "      <td>AAL</td>\n",
       "      <td>5.0</td>\n",
       "      <td>1.0</td>\n",
       "      <td>2017.0</td>\n",
       "      <td>Jueves</td>\n",
       "      <td>I</td>\n",
       "      <td>American Airlines</td>\n",
       "      <td>Santiago</td>\n",
       "      <td>Miami</td>\n",
       "    </tr>\n",
       "  </tbody>\n",
       "</table>\n",
       "</div>"
      ],
      "text/plain": [
       "               Fecha-I Vlo-I Ori-I Des-I Emp-I              Fecha-O Vlo-O  \\\n",
       "0  2017-01-01 23:30:00   226  SCEL  KMIA   AAL  2017-01-01 23:33:00   226   \n",
       "1  2017-01-02 23:30:00   226  SCEL  KMIA   AAL  2017-01-02 23:39:00   226   \n",
       "2  2017-01-03 23:30:00   226  SCEL  KMIA   AAL  2017-01-03 23:39:00   226   \n",
       "3  2017-01-04 23:30:00   226  SCEL  KMIA   AAL  2017-01-04 23:33:00   226   \n",
       "4  2017-01-05 23:30:00   226  SCEL  KMIA   AAL  2017-01-05 23:28:00   226   \n",
       "\n",
       "  Ori-O Des-O Emp-O  DIA  MES     AÑO     DIANOM TIPOVUELO              OPERA  \\\n",
       "0  SCEL  KMIA   AAL  1.0  1.0  2017.0    Domingo         I  American Airlines   \n",
       "1  SCEL  KMIA   AAL  2.0  1.0  2017.0      Lunes         I  American Airlines   \n",
       "2  SCEL  KMIA   AAL  3.0  1.0  2017.0     Martes         I  American Airlines   \n",
       "3  SCEL  KMIA   AAL  4.0  1.0  2017.0  Miercoles         I  American Airlines   \n",
       "4  SCEL  KMIA   AAL  5.0  1.0  2017.0     Jueves         I  American Airlines   \n",
       "\n",
       "   SIGLAORI SIGLADES  \n",
       "0  Santiago    Miami  \n",
       "1  Santiago    Miami  \n",
       "2  Santiago    Miami  \n",
       "3  Santiago    Miami  \n",
       "4  Santiago    Miami  "
      ]
     },
     "execution_count": 4,
     "metadata": {},
     "output_type": "execute_result"
    }
   ],
   "source": [
    "df.head()"
   ]
  },
  {
   "cell_type": "code",
   "execution_count": 5,
   "id": "f886078c",
   "metadata": {},
   "outputs": [
    {
     "data": {
      "text/plain": [
       "{'Vlo-I': 39,\n",
       " 'Ori-I': 39,\n",
       " 'Des-I': 39,\n",
       " 'Emp-I': 39,\n",
       " 'Fecha-O': 39,\n",
       " 'Vlo-O': 40,\n",
       " 'Ori-O': 39,\n",
       " 'Des-O': 39,\n",
       " 'Emp-O': 39,\n",
       " 'DIA': 39,\n",
       " 'MES': 39,\n",
       " 'AÑO': 39,\n",
       " 'DIANOM': 39,\n",
       " 'TIPOVUELO': 39,\n",
       " 'OPERA': 39,\n",
       " 'SIGLAORI': 39,\n",
       " 'SIGLADES': 39}"
      ]
     },
     "execution_count": 5,
     "metadata": {},
     "output_type": "execute_result"
    }
   ],
   "source": [
    "#Queremos ver los valores faltantes por columna\n",
    "def missing_values():\n",
    "    temp_dict = dict()\n",
    "    for i in df.columns:\n",
    "        if df[i].isnull().sum() > 0: \n",
    "            temp_dict[i] = df[i].isnull().sum()\n",
    "    return temp_dict\n",
    "\n",
    "missing_values()"
   ]
  },
  {
   "cell_type": "code",
   "execution_count": 8,
   "id": "f10f82f5",
   "metadata": {
    "collapsed": true,
    "jupyter": {
     "outputs_hidden": true
    },
    "tags": []
   },
   "outputs": [
    {
     "data": {
      "text/plain": [
       "Text(0.5, 1.0, 'Cant. de vuelos por dia de la semana')"
      ]
     },
     "execution_count": 8,
     "metadata": {},
     "output_type": "execute_result"
    },
    {
     "data": {
      "image/png": "[encoded data removed]",
      "text/plain": [
       "<Figure size 432x288 with 1 Axes>"
      ]
     },
     "metadata": {
      "needs_background": "light"
     },
     "output_type": "display_data"
    }
   ],
   "source": [
    "#Cantidad de vuelos por día de semana?\n",
    "sns.countplot(x = 'DIANOM', data = df, order = df['DIANOM'].value_counts().index) \n",
    "plt.title('Cant. de vuelos por dia de la semana')"
   ]
  },
  {
   "cell_type": "code",
   "execution_count": 16,
   "id": "16b3a047-4f1b-4261-b0c2-6ff50f2f5af7",
   "metadata": {
    "tags": []
   },
   "outputs": [
    {
     "data": {
      "text/plain": [
       "Viernes      0.150791\n",
       "Jueves       0.150175\n",
       "Lunes        0.148606\n",
       "Domingo      0.143706\n",
       "Miercoles    0.142606\n",
       "Martes       0.141593\n",
       "Sabado       0.122523\n",
       "Name: DIANOM, dtype: float64"
      ]
     },
     "execution_count": 16,
     "metadata": {},
     "output_type": "execute_result"
    }
   ],
   "source": [
    "df.DIANOM.value_counts(normalize = True)"
   ]
  },
  {
   "cell_type": "code",
   "execution_count": 15,
   "id": "e0c30fb4",
   "metadata": {},
   "outputs": [
    {
     "data": {
      "text/plain": [
       "Text(0.5, 1.0, 'Vuelos por Aerolínea')"
      ]
     },
     "execution_count": 15,
     "metadata": {},
     "output_type": "execute_result"
    },
    {
     "data": {
      "image/png": "[encoded data removed]",
      "text/plain": [
       "<Figure size 1152x864 with 1 Axes>"
      ]
     },
     "metadata": {
      "needs_background": "light"
     },
     "output_type": "display_data"
    }
   ],
   "source": [
    "#Qué aerolíneas tenemos en consideración?\n",
    "plt.figure(figsize=(16, 12))\n",
    "sns.countplot(y = 'OPERA', data = df, order = df['OPERA'].value_counts().index) \n",
    "plt.title('Vuelos por Aerolínea')"
   ]
  },
  {
   "cell_type": "code",
   "execution_count": 42,
   "id": "781cf8b9-93a4-4f0e-8d97-d1cc688bffec",
   "metadata": {},
   "outputs": [
    {
     "data": {
      "text/plain": [
       "Grupo LATAM                 40854\n",
       "Sky Airline                 14298\n",
       "Aerolineas Argentinas        1949\n",
       "Copa Air                     1850\n",
       "Latin American Wings         1674\n",
       "Avianca                      1152\n",
       "JetSmart SPA                 1095\n",
       "Gol Trans                     806\n",
       "American Airlines             757\n",
       "Air Canada                    565\n",
       "Iberia                        362\n",
       "Delta Air                     358\n",
       "Air France                    358\n",
       "Aeromexico                    351\n",
       "United Airlines               335\n",
       "Oceanair Linhas Aereas        278\n",
       "Alitalia                      259\n",
       "K.L.M.                        251\n",
       "British Airways               205\n",
       "Qantas Airways                195\n",
       "Lacsa                          92\n",
       "Austral                        74\n",
       "Plus Ultra Lineas Aereas       49\n",
       "Name: OPERA, dtype: int64"
      ]
     },
     "execution_count": 42,
     "metadata": {},
     "output_type": "execute_result"
    }
   ],
   "source": [
    "#Cant de vuelos por aerolínea\n",
    "df.OPERA.value_counts()"
   ]
  },
  {
   "cell_type": "code",
   "execution_count": 24,
   "id": "e3565db3-6a80-436d-9646-e59f4a590c41",
   "metadata": {},
   "outputs": [
    {
     "data": {
      "text/plain": [
       "N    36966\n",
       "I    31201\n",
       "Name: TIPOVUELO, dtype: int64"
      ]
     },
     "metadata": {},
     "output_type": "display_data"
    },
    {
     "data": {
      "text/plain": [
       "N    0.542286\n",
       "I    0.457714\n",
       "Name: TIPOVUELO, dtype: float64"
      ]
     },
     "metadata": {},
     "output_type": "display_data"
    }
   ],
   "source": [
    "#Tipo de vuelo:\n",
    "display(df.TIPOVUELO.value_counts())\n",
    "display(df.TIPOVUELO.value_counts(normalize = True)) #Vemos mas vuelos nacionales que internacionales"
   ]
  },
  {
   "cell_type": "code",
   "execution_count": 26,
   "id": "f66265ed-a761-4e3a-ad50-0ad9c7bb6165",
   "metadata": {},
   "outputs": [
    {
     "data": {
      "text/plain": [
       "array(['I', 'N', nan], dtype=object)"
      ]
     },
     "execution_count": 26,
     "metadata": {},
     "output_type": "execute_result"
    }
   ],
   "source": [
    "df.TIPOVUELO.unique()"
   ]
  },
  {
   "cell_type": "code",
   "execution_count": 39,
   "id": "aa27fc58-8415-4383-a199-5e814006795e",
   "metadata": {},
   "outputs": [
    {
     "data": {
      "image/png": "[encoded data removed]",
      "text/plain": [
       "<Figure size 432x288 with 1 Axes>"
      ]
     },
     "metadata": {},
     "output_type": "display_data"
    }
   ],
   "source": [
    "#Para hacer pie chart:\n",
    "data = df.TIPOVUELO.value_counts()\n",
    "labels = df.TIPOVUELO.value_counts().index\n",
    "colors = sns.color_palette('pastel')[0:5]\n",
    "plt.title('TIPO DE VUELO')\n",
    "plt.pie(data, labels = labels, colors = colors, autopct='%.0f%%')\n",
    "plt.show()\n"
   ]
  },
  {
   "cell_type": "code",
   "execution_count": 40,
   "id": "b1fb5713-0474-440f-b407-f1b40347464c",
   "metadata": {},
   "outputs": [
    {
     "data": {
      "text/html": [
       "<div>\n",
       "<style scoped>\n",
       "    .dataframe tbody tr th:only-of-type {\n",
       "        vertical-align: middle;\n",
       "    }\n",
       "\n",
       "    .dataframe tbody tr th {\n",
       "        vertical-align: top;\n",
       "    }\n",
       "\n",
       "    .dataframe thead th {\n",
       "        text-align: right;\n",
       "    }\n",
       "</style>\n",
       "<table border=\"1\" class=\"dataframe\">\n",
       "  <thead>\n",
       "    <tr style=\"text-align: right;\">\n",
       "      <th></th>\n",
       "      <th>DIA</th>\n",
       "      <th>MES</th>\n",
       "      <th>AÑO</th>\n",
       "    </tr>\n",
       "  </thead>\n",
       "  <tbody>\n",
       "    <tr>\n",
       "      <th>count</th>\n",
       "      <td>68167.000000</td>\n",
       "      <td>68167.000000</td>\n",
       "      <td>68167.000000</td>\n",
       "    </tr>\n",
       "    <tr>\n",
       "      <th>mean</th>\n",
       "      <td>15.714906</td>\n",
       "      <td>6.620359</td>\n",
       "      <td>2017.000029</td>\n",
       "    </tr>\n",
       "    <tr>\n",
       "      <th>std</th>\n",
       "      <td>8.782835</td>\n",
       "      <td>3.522783</td>\n",
       "      <td>0.005417</td>\n",
       "    </tr>\n",
       "    <tr>\n",
       "      <th>min</th>\n",
       "      <td>1.000000</td>\n",
       "      <td>1.000000</td>\n",
       "      <td>2017.000000</td>\n",
       "    </tr>\n",
       "    <tr>\n",
       "      <th>25%</th>\n",
       "      <td>8.000000</td>\n",
       "      <td>3.000000</td>\n",
       "      <td>2017.000000</td>\n",
       "    </tr>\n",
       "    <tr>\n",
       "      <th>50%</th>\n",
       "      <td>16.000000</td>\n",
       "      <td>7.000000</td>\n",
       "      <td>2017.000000</td>\n",
       "    </tr>\n",
       "    <tr>\n",
       "      <th>75%</th>\n",
       "      <td>23.000000</td>\n",
       "      <td>10.000000</td>\n",
       "      <td>2017.000000</td>\n",
       "    </tr>\n",
       "    <tr>\n",
       "      <th>max</th>\n",
       "      <td>31.000000</td>\n",
       "      <td>12.000000</td>\n",
       "      <td>2018.000000</td>\n",
       "    </tr>\n",
       "  </tbody>\n",
       "</table>\n",
       "</div>"
      ],
      "text/plain": [
       "                DIA           MES           AÑO\n",
       "count  68167.000000  68167.000000  68167.000000\n",
       "mean      15.714906      6.620359   2017.000029\n",
       "std        8.782835      3.522783      0.005417\n",
       "min        1.000000      1.000000   2017.000000\n",
       "25%        8.000000      3.000000   2017.000000\n",
       "50%       16.000000      7.000000   2017.000000\n",
       "75%       23.000000     10.000000   2017.000000\n",
       "max       31.000000     12.000000   2018.000000"
      ]
     },
     "execution_count": 40,
     "metadata": {},
     "output_type": "execute_result"
    }
   ],
   "source": [
    "df.describe()"
   ]
  },
  {
   "cell_type": "code",
   "execution_count": 44,
   "id": "fb82add2-88a4-415a-a11b-a325855ab3ec",
   "metadata": {},
   "outputs": [
    {
     "data": {
      "text/plain": [
       "array(['Santiago', nan], dtype=object)"
      ]
     },
     "execution_count": 44,
     "metadata": {},
     "output_type": "execute_result"
    }
   ],
   "source": [
    "df.SIGLAORI.unique() #Chequeamos que todos los vuelos considerados provengan del aeropuerto de SLC"
   ]
  },
  {
   "cell_type": "code",
   "execution_count": 52,
   "id": "eba5ea32-7c20-46c6-8109-310e89f98482",
   "metadata": {},
   "outputs": [
    {
     "data": {
      "text/plain": [
       "SCEL    68167\n",
       "Name: Ori-O, dtype: int64"
      ]
     },
     "execution_count": 52,
     "metadata": {},
     "output_type": "execute_result"
    }
   ],
   "source": [
    "df['Ori-O'].value_counts() #Verificamos con la columna correspondiente"
   ]
  },
  {
   "cell_type": "code",
   "execution_count": 45,
   "id": "ea8f0d9b-0030-40ee-aa21-618a8d8960db",
   "metadata": {},
   "outputs": [
    {
     "data": {
      "text/plain": [
       "array(['Miami', 'Dallas', 'Buenos Aires', 'Toronto', 'Paris',\n",
       "       'Ciudad de Mexico', 'Bogota', 'Roma', 'Londres',\n",
       "       'Ciudad de Panama', 'Atlanta', 'Sao Paulo', 'Rio de Janeiro',\n",
       "       'Florianapolis', 'Madrid', 'Lima', 'Sydney', 'Houston', 'Asuncion',\n",
       "       'Cataratas Iguacu', 'Puerto Montt', 'Punta Arenas',\n",
       "       'Puerto Natales', 'Balmaceda', 'Temuco', 'Valdivia', 'Concepcion',\n",
       "       'La Serena', 'Copiapo', 'Calama', 'Antofagasta', 'Iquique',\n",
       "       'Arica', 'Mendoza', 'Cordoba', 'Montevideo', 'Castro (Chiloe)',\n",
       "       'Osorno', 'Orlando', 'Nueva York', 'Guayaquil', 'Cancun',\n",
       "       'Punta Cana', 'Los Angeles', 'Auckland N.Z.', 'Isla de Pascua',\n",
       "       'La Paz', 'Santa Cruz', nan, 'Quito', 'Bariloche', 'Rosario',\n",
       "       'Washington', 'Tucuman', 'Melbourne', 'Neuquen', 'Ushuia',\n",
       "       'Puerto Stanley', 'Punta del Este', 'Cochabamba'], dtype=object)"
      ]
     },
     "execution_count": 45,
     "metadata": {},
     "output_type": "execute_result"
    }
   ],
   "source": [
    "df.SIGLADES.unique() #Listamos las ciudades de destino"
   ]
  },
  {
   "cell_type": "code",
   "execution_count": 60,
   "id": "f5ca34b9-68a1-4f3f-b71d-a15c9beadb92",
   "metadata": {},
   "outputs": [
    {
     "data": {
      "text/plain": [
       "array(['KMIA', 'KDFW', 'SAEZ', 'CYYZ', 'LFPG', 'MMMX', 'SABE', 'SKBO',\n",
       "       'LIRF', 'EGLL', 'MPTO', 'KATL', 'SBGR', 'SBGL', 'SBFL', 'LEMD',\n",
       "       'SPJC', 'YSSY', 'KIAH', 'SGAS', 'SBFI', 'SCTE', 'SCCI', 'SCNT',\n",
       "       'SCBA', 'SCVD', 'SCQP', 'SCIE', 'SCSE', 'SCAT', 'SCCF', 'SCFA',\n",
       "       'SCDA', 'SCAR', 'SAME', 'SACO', 'SUMU', 'SCPQ', 'SCJO', 'KMCO',\n",
       "       'KJFK', 'SEGU', 'MMUN', 'MDPC', 'KLAX', 'NZAA', 'SCIP', 'SLLP',\n",
       "       'SLVR', nan, 'SEQM', 'SAZS', 'SAAR', 'SANT', 'YMML', 'SEQU',\n",
       "       'SAZN', 'SAWH', 'EGYP', 'SULS', 'SLCB', 'SARI'], dtype=object)"
      ]
     },
     "execution_count": 60,
     "metadata": {},
     "output_type": "execute_result"
    }
   ],
   "source": [
    "df['Des-I'].unique()"
   ]
  },
  {
   "cell_type": "code",
   "execution_count": 47,
   "id": "7520b677-4207-4987-90e8-e3690141ac89",
   "metadata": {},
   "outputs": [
    {
     "data": {
      "text/plain": [
       "Buenos Aires        0.092934\n",
       "Antofagasta         0.084880\n",
       "Lima                0.077310\n",
       "Calama              0.075491\n",
       "Puerto Montt        0.063917\n",
       "Concepcion          0.058577\n",
       "Iquique             0.054968\n",
       "Sao Paulo           0.052357\n",
       "Temuco              0.037980\n",
       "Arica               0.035736\n",
       "La Serena           0.035354\n",
       "Punta Arenas        0.030880\n",
       "Ciudad de Panama    0.027139\n",
       "Copiapo             0.026112\n",
       "Mendoza             0.023839\n",
       "Bogota              0.023530\n",
       "Rio de Janeiro      0.021051\n",
       "Montevideo          0.015638\n",
       "Cordoba             0.015007\n",
       "Miami               0.014905\n",
       "Madrid              0.013115\n",
       "Balmaceda           0.012308\n",
       "Valdivia            0.011046\n",
       "Ciudad de Mexico    0.010269\n",
       "Isla de Pascua      0.006631\n",
       "Guayaquil           0.006191\n",
       "Nueva York          0.005604\n",
       "Auckland N.Z.       0.005296\n",
       "Paris               0.005266\n",
       "Atlanta             0.005252\n",
       "Dallas              0.005237\n",
       "Houston             0.004900\n",
       "Toronto             0.004152\n",
       "Osorno              0.003799\n",
       "Roma                0.003799\n",
       "Castro (Chiloe)     0.003447\n",
       "Asuncion            0.003403\n",
       "La Paz              0.003066\n",
       "Londres             0.003007\n",
       "Sydney              0.002846\n",
       "Florianapolis       0.002377\n",
       "Los Angeles         0.002274\n",
       "Rosario             0.001995\n",
       "Santa Cruz          0.001760\n",
       "Puerto Natales      0.001159\n",
       "Cancun              0.000924\n",
       "Punta Cana          0.000792\n",
       "Melbourne           0.000572\n",
       "Tucuman             0.000557\n",
       "Neuquen             0.000543\n",
       "Orlando             0.000499\n",
       "Punta del Este      0.000088\n",
       "Ushuia              0.000088\n",
       "Cataratas Iguacu    0.000029\n",
       "Bariloche           0.000029\n",
       "Quito               0.000029\n",
       "Washington          0.000015\n",
       "Puerto Stanley      0.000015\n",
       "Cochabamba          0.000015\n",
       "Name: SIGLADES, dtype: float64"
      ]
     },
     "execution_count": 47,
     "metadata": {},
     "output_type": "execute_result"
    }
   ],
   "source": [
    "#Ciudades de destino: \n",
    "df.SIGLADES.value_counts(normalize = True)"
   ]
  },
  {
   "cell_type": "markdown",
   "id": "55e79329-7730-47c0-b7f7-5e974a918224",
   "metadata": {},
   "source": [
    "Primeras conclusiones de la rápida evaluación de los datos:\n",
    "1. Los vuelos son del año 2017\n",
    "2. Tenemos más vuelos nacionales que internacionales (no vemos una gran diferencia)\n",
    "3. Aproximadamente un 60% de los vuelos son operados por LATAM\n",
    "4. El día de la semana con menos vuelos es el sábado\n",
    "5. El destino más solicitado es Buenos Aires, seguido por Antofagasta (Ciudad portuaria y capital regional en un área minera del Desierto de Atacama, en el norte de Chile)\n",
    "6. No tenemos un valor significativo de valores faltantes\n",
    "7. Hay columnas que tienen información repetida (ej SIGLAORI y Ori-O) que al ser columnas categóricas, no nos suman información en un posible modelo. \n",
    "8. Los meses con más vuelos son diciembre y enero (meses de vacaciones, temporada alta)\n",
    "9. Los viernes y jueves son los días con más vuelos (las personas prefieren aprovechar la semana completa comenzando el fin de semana), seguidos por los lunes y domingos(podrían ser los días en los cuales regresan)"
   ]
  },
  {
   "cell_type": "code",
   "execution_count": null,
   "id": "3c15e1ea-2047-402b-b3c0-0b0896c9c824",
   "metadata": {},
   "outputs": [],
   "source": []
  }
 ],
 "metadata": {
  "kernelspec": {
   "display_name": "Python 3 (ipykernel)",
   "language": "python",
   "name": "python3"
  },
  "language_info": {
   "codemirror_mode": {
    "name": "ipython",
    "version": 3
   },
   "file_extension": ".py",
   "mimetype": "text/x-python",
   "name": "python",
   "nbconvert_exporter": "python",
   "pygments_lexer": "ipython3",
   "version": "3.9.7"
  }
 },
 "nbformat": 4,
 "nbformat_minor": 5
}
