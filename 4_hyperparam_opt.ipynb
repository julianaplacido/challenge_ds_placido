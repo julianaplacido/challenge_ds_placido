{
 "cells": [
  {
   "cell_type": "markdown",
   "metadata": {
    "id": "ee78af68-9b60-4e02-8399-3fe1b79094fd"
   },
   "source": [
    "### Desafío Data Science - Juliana Plácido"
   ]
  },
  {
   "cell_type": "markdown",
   "metadata": {
    "id": "c154532c-9f08-4855-8f09-ec7e4b4388bb"
   },
   "source": [
    "#### Notebook IIII\n",
    "Optimización de hiperparámetros:"
   ]
  },
  {
   "cell_type": "code",
   "execution_count": 3,
   "metadata": {
    "id": "hbeapnJWMvT-"
   },
   "outputs": [],
   "source": [
    "#Importación de librerías\n",
    "\n",
    "import pandas as pd\n",
    "import numpy as np\n",
    "import matplotlib.pyplot as plt\n",
    "%matplotlib inline\n",
    "import seaborn as sns\n",
    "\n",
    "\n",
    "from sklearn.model_selection import train_test_split\n",
    "from sklearn.model_selection import GridSearchCV\n",
    "from sklearn.model_selection import StratifiedKFold\n",
    "from sklearn.model_selection import RandomizedSearchCV\n",
    "from sklearn.model_selection import GroupShuffleSplit\n",
    "\n",
    "from sklearn.metrics import roc_curve, auc\n",
    "from sklearn.metrics import roc_auc_score\n",
    "from sklearn.metrics import confusion_matrix\n",
    "from sklearn.metrics import classification_report\n",
    "\n",
    "\n",
    "import lightgbm as lgb\n",
    "from lightgbm import LGBMClassifier\n",
    "from xgboost import XGBClassifier\n",
    "\n",
    "import optuna\n",
    "from optuna.integration import OptunaSearchCV\n",
    "from optuna.exceptions import TrialPruned\n",
    "from optuna.samplers import TPESampler\n",
    "from optuna.visualization import plot_optimization_history\n",
    "from optuna.visualization import plot_param_importances\n",
    "\n",
    "\n",
    "import gc\n",
    "import warnings\n",
    "warnings.filterwarnings('ignore')"
   ]
  },
  {
   "cell_type": "code",
   "execution_count": 4,
   "metadata": {
    "id": "JUlry1UKUD1x"
   },
   "outputs": [],
   "source": [
    "#importamos el df\n",
    "df = pd.read_csv('df_modelado.csv')\n"
   ]
  },
  {
   "cell_type": "code",
   "execution_count": 5,
   "metadata": {
    "id": "fnhvBmLkVo03"
   },
   "outputs": [],
   "source": [
    "X = df.drop(['vlo-i','fecha-i', 'atraso_15', 'flag_adelantado'], axis=1)\n",
    "y = df['atraso_15']"
   ]
  },
  {
   "cell_type": "code",
   "execution_count": 6,
   "metadata": {
    "id": "unXSkO7KXXV3"
   },
   "outputs": [],
   "source": [
    "from sklearn.model_selection import train_test_split\n",
    "trainSize = 0.7\n",
    "\n",
    "X_train, X_test, y_train, y_test = train_test_split(X, y, random_state=0,\n",
    "                                  train_size=trainSize)"
   ]
  },
  {
   "cell_type": "code",
   "execution_count": 7,
   "metadata": {
    "colab": {
     "base_uri": "https://localhost:8080/"
    },
    "id": "X4XloxjoXZlM",
    "outputId": "1915186f-4c8b-4ae3-9af0-e5535c29c1d1"
   },
   "outputs": [
    {
     "name": "stdout",
     "output_type": "stream",
     "text": [
      "Shape X: (47716, 15)\n",
      "Shape y: (47716,)\n"
     ]
    }
   ],
   "source": [
    "print('Shape X:', X_train.shape)\n",
    "print('Shape y:', y_train.shape)"
   ]
  },
  {
   "cell_type": "code",
   "execution_count": 8,
   "metadata": {
    "colab": {
     "base_uri": "https://localhost:8080/"
    },
    "id": "kBik1pTCXbst",
    "outputId": "06afd114-794a-420e-b188-1853eb34a4c2"
   },
   "outputs": [
    {
     "name": "stdout",
     "output_type": "stream",
     "text": [
      "Shape X: (20450, 15)\n",
      "Shape y: (20450,)\n"
     ]
    }
   ],
   "source": [
    "print('Shape X:', X_test.shape)\n",
    "print('Shape y:', y_test.shape)"
   ]
  },
  {
   "cell_type": "markdown",
   "metadata": {
    "id": "2h1h7Jc3oUQb"
   },
   "source": [
    "### LGBM"
   ]
  },
  {
   "cell_type": "code",
   "execution_count": 12,
   "metadata": {
    "colab": {
     "base_uri": "https://localhost:8080/"
    },
    "id": "eCkW0YDFXe6G",
    "outputId": "a9b36233-4d56-4146-f2e0-9779b11474f4"
   },
   "outputs": [
    {
     "name": "stdout",
     "output_type": "stream",
     "text": [
      "ROC LGBM Baseline Train: 0.7737\n",
      "ROC LGBM Baseline Test: 0.7286\n",
      "CPU times: user 2.88 s, sys: 7.81 ms, total: 2.89 s\n",
      "Wall time: 3.04 s\n"
     ]
    }
   ],
   "source": [
    "%%time\n",
    "model_lgbm = LGBMClassifier(random_state=42)\n",
    "model_lgbm.fit(X_train, y_train)\n",
    "\n",
    "preds_lgbm_train = model_lgbm.predict_proba(X_train)[:,1]\n",
    "preds_lgbm_test = model_lgbm.predict_proba(X_test)[:,1]\n",
    "\n",
    "train_roc = round(roc_auc_score(y_train, preds_lgbm_train) ,4) \n",
    "test_roc = round(roc_auc_score(y_test, preds_lgbm_test) ,4)\n",
    "\n",
    "\n",
    "print(\"ROC LGBM Baseline Train: \" + str(train_roc))\n",
    "print(\"ROC LGBM Baseline Test: \" + str(test_roc))"
   ]
  },
  {
   "cell_type": "code",
   "execution_count": 13,
   "metadata": {
    "colab": {
     "base_uri": "https://localhost:8080/"
    },
    "id": "rfRAx_viagXt",
    "outputId": "63066099-269c-493e-e03a-a0e2f8e9e4ac"
   },
   "outputs": [
    {
     "data": {
      "text/plain": [
       "{'boosting_type': 'gbdt',\n",
       " 'class_weight': None,\n",
       " 'colsample_bytree': 1.0,\n",
       " 'importance_type': 'split',\n",
       " 'learning_rate': 0.1,\n",
       " 'max_depth': -1,\n",
       " 'min_child_samples': 20,\n",
       " 'min_child_weight': 0.001,\n",
       " 'min_split_gain': 0.0,\n",
       " 'n_estimators': 100,\n",
       " 'n_jobs': -1,\n",
       " 'num_leaves': 31,\n",
       " 'objective': None,\n",
       " 'random_state': 42,\n",
       " 'reg_alpha': 0.0,\n",
       " 'reg_lambda': 0.0,\n",
       " 'silent': True,\n",
       " 'subsample': 1.0,\n",
       " 'subsample_for_bin': 200000,\n",
       " 'subsample_freq': 0}"
      ]
     },
     "execution_count": 13,
     "metadata": {},
     "output_type": "execute_result"
    }
   ],
   "source": [
    "model_lgbm.get_params()"
   ]
  },
  {
   "cell_type": "code",
   "execution_count": 14,
   "metadata": {
    "id": "ZeLk4FF1Xhdf"
   },
   "outputs": [],
   "source": [
    "#Ya corrimos el modelo base, ahora vamos a probar optimizar los hiperparámetros:\n",
    "\n",
    "\n",
    "param_grid = {'max_depth': [-1, 2, 6, 10, 12],   \n",
    "              'num_leaves': list(range(20,35+1)),\n",
    "              'n_estimators':[100,200,500]} "
   ]
  },
  {
   "cell_type": "code",
   "execution_count": 15,
   "metadata": {
    "colab": {
     "base_uri": "https://localhost:8080/"
    },
    "id": "SadFugy2chES",
    "outputId": "a2a8c465-235d-45e4-822a-585990827a85"
   },
   "outputs": [
    {
     "name": "stdout",
     "output_type": "stream",
     "text": [
      "CPU times: user 34min 20s, sys: 32.2 s, total: 34min 52s\n",
      "Wall time: 19min 58s\n"
     ]
    },
    {
     "data": {
      "text/plain": [
       "GridSearchCV(cv=5, estimator=LGBMClassifier(random_state=42),\n",
       "             param_grid={'max_depth': [-1, 2, 6, 10, 12],\n",
       "                         'n_estimators': [100, 200, 500],\n",
       "                         'num_leaves': [20, 21, 22, 23, 24, 25, 26, 27, 28, 29,\n",
       "                                        30, 31, 32, 33, 34, 35]})"
      ]
     },
     "execution_count": 15,
     "metadata": {},
     "output_type": "execute_result"
    }
   ],
   "source": [
    "%%time\n",
    "\n",
    "# Grid Search\n",
    "model_lgbm2 = GridSearchCV(model_lgbm, param_grid=param_grid, cv=5)\n",
    "\n",
    "# Train: using the previous grid and CV with fold = 5 \n",
    "model_lgbm2.fit(X_train, y_train)"
   ]
  },
  {
   "cell_type": "code",
   "execution_count": 16,
   "metadata": {
    "colab": {
     "base_uri": "https://localhost:8080/"
    },
    "id": "RtKNIVi0cvLd",
    "outputId": "f2e7d69c-061c-409f-d28f-22ed7970c412"
   },
   "outputs": [
    {
     "name": "stdout",
     "output_type": "stream",
     "text": [
      "Best Parameters: {'max_depth': 6, 'n_estimators': 500, 'num_leaves': 20}\n"
     ]
    }
   ],
   "source": [
    "print(\"Best Parameters: \"+str(model_lgbm2.best_params_))"
   ]
  },
  {
   "cell_type": "code",
   "execution_count": 18,
   "metadata": {
    "colab": {
     "base_uri": "https://localhost:8080/"
    },
    "id": "1R4Zqd18iDOi",
    "outputId": "b6c2050f-f70c-492a-bd23-a0da1288c3d7"
   },
   "outputs": [
    {
     "name": "stdout",
     "output_type": "stream",
     "text": [
      "ROC LGBM Baseline Train: 0.8126\n",
      "ROC LGBM Baseline Test: 0.7315\n"
     ]
    }
   ],
   "source": [
    "preds_lgbm_train = model_lgbm2.predict_proba(X_train)[:,1]\n",
    "preds_lgbm_test = model_lgbm2.predict_proba(X_test)[:,1]\n",
    "\n",
    "train_roc = round(roc_auc_score(y_train, preds_lgbm_train) ,4) \n",
    "test_roc = round(roc_auc_score(y_test, preds_lgbm_test) ,4)\n",
    "\n",
    "\n",
    "print(\"ROC LGBM Baseline Train: \" + str(train_roc))\n",
    "print(\"ROC LGBM Baseline Test: \" + str(test_roc))"
   ]
  },
  {
   "cell_type": "code",
   "execution_count": 24,
   "metadata": {
    "id": "B2RSGgcejPpA"
   },
   "outputs": [],
   "source": [
    "#Visualización de métricas de performance:\n",
    "#Train Modelo Nuevo\n",
    "fpr_train, tpr_train, _ = roc_curve(y_train, preds_lgbm_train)\n",
    "roc_auc_train = auc(fpr_train, tpr_train)\n",
    "\n",
    "#Test Modelo Nuevo\n",
    "fpr_test, tpr_test, _ = roc_curve(y_test, preds_lgbm_test)\n",
    "roc_auc_test = auc(fpr_test, tpr_test)"
   ]
  },
  {
   "cell_type": "code",
   "execution_count": 25,
   "metadata": {
    "colab": {
     "base_uri": "https://localhost:8080/",
     "height": 497
    },
    "id": "eUz-at9Xkfss",
    "outputId": "db5419e7-6b1d-45d6-a0cc-81ce229cf90a"
   },
   "outputs": [
    {
     "data": {
      "image/png": "[encoded data removed]",
      "text/plain": [
       "<Figure size 720x576 with 1 Axes>"
      ]
     },
     "metadata": {
      "needs_background": "light"
     },
     "output_type": "display_data"
    }
   ],
   "source": [
    "plt.figure(figsize=(10,8))\n",
    "\n",
    "plt.plot(fpr_train, tpr_train, \n",
    "         color = 'green', \n",
    "         label = 'ROC Train (area = {:.4f})'.format(roc_auc_train), \n",
    "         lw = 1)\n",
    "plt.plot(fpr_test, tpr_test, \n",
    "         color = 'blue', \n",
    "         label = 'ROC Test (area = {:.4f})'.format(roc_auc_test), \n",
    "         lw = 1)\n",
    "plt.plot([0, 1], [0, 1], \n",
    "         color = 'magenta', \n",
    "         label = 'Random Guess', \n",
    "         lw = 2, \n",
    "         linestyle = '--')\n",
    "\n",
    "plt.xlim([0.0, 1.0])\n",
    "plt.ylim([0.0, 1.05])\n",
    "\n",
    "plt.xlabel('False Positive Rate')\n",
    "plt.ylabel('True Positive Rate')\n",
    "plt.legend(loc = \"lower right\")\n",
    "\n",
    "plt.show()"
   ]
  },
  {
   "cell_type": "code",
   "execution_count": 57,
   "metadata": {
    "id": "Em3IaKiJk-S0"
   },
   "outputs": [],
   "source": [
    "# Calculo threshold\n",
    "\n",
    "def Find_Optimal_Cutoff(target, predicted):\n",
    "    fpr, tpr, threshold = roc_curve(target, predicted)\n",
    "    i = np.arange(len(tpr)) \n",
    "    roc = pd.DataFrame({'tf' : pd.Series(tpr-(1-fpr), index=i), 'threshold' : pd.Series(threshold, index=i)})\n",
    "    roc_t = roc.iloc[(roc.tf-0).abs().argsort()[:1]]\n",
    "\n",
    "    return list(roc_t['threshold'])\n"
   ]
  },
  {
   "cell_type": "code",
   "execution_count": 28,
   "metadata": {
    "colab": {
     "base_uri": "https://localhost:8080/"
    },
    "id": "s-t_djT0liiw",
    "outputId": "d2190e5f-44eb-4c9e-98cf-00998a6c30b4"
   },
   "outputs": [
    {
     "name": "stdout",
     "output_type": "stream",
     "text": [
      "Threshold Train : [0.19202273617308685]\n",
      "Threshold Test : [0.17805634688468952]\n"
     ]
    }
   ],
   "source": [
    "# Threshold a utilizar es train\n",
    "threshold_train = Find_Optimal_Cutoff(y_train, preds_lgbm_train)\n",
    "\n",
    "threshold_test = Find_Optimal_Cutoff(y_test, preds_lgbm_test)\n",
    "\n",
    "print(\"Threshold Train :\", threshold_train)\n",
    "print(\"Threshold Test :\", threshold_test)"
   ]
  },
  {
   "cell_type": "code",
   "execution_count": 29,
   "metadata": {
    "colab": {
     "base_uri": "https://localhost:8080/"
    },
    "id": "ti4m1IFhlwkr",
    "outputId": "450fd9b8-2fde-4615-ad3d-405a84212a6d"
   },
   "outputs": [
    {
     "name": "stdout",
     "output_type": "stream",
     "text": [
      "Matriz de confusion : \n",
      " [[11757  4855]\n",
      " [ 1393  2445]]\n",
      "Valores : \n",
      " TN:  11757 \n",
      " FN:  1393 \n",
      " FP:  4855 \n",
      " TP:  2445\n",
      "Classification report : \n",
      "               precision    recall  f1-score   support\n",
      "\n",
      "           0       0.89      0.71      0.79     16612\n",
      "           1       0.33      0.64      0.44      3838\n",
      "\n",
      "    accuracy                           0.69     20450\n",
      "   macro avg       0.61      0.67      0.61     20450\n",
      "weighted avg       0.79      0.69      0.72     20450\n",
      "\n"
     ]
    }
   ],
   "source": [
    "predicted = []\n",
    "for x in preds_lgbm_test:\n",
    "    if x >= threshold_train[0]:\n",
    "        predicted.append(1)\n",
    "    else:\n",
    "        predicted.append(0)\n",
    "\n",
    "# actual values\n",
    "actual = list(y_test)\n",
    "# predicted values\n",
    "predicted\n",
    "\n",
    "# confusion matrix\n",
    "matrix = confusion_matrix(actual,predicted, labels=[0,1])\n",
    "print('Matriz de confusion : \\n',matrix)\n",
    "\n",
    "# outcome values order in sklearn\n",
    "tn, fp, fn, tp = confusion_matrix(actual,predicted,labels=[0,1]).reshape(-1)\n",
    "print('Valores : \\n','TN: ',tn, '\\n','FN: ',fn,'\\n','FP: ',fp,'\\n', 'TP: ',tp)\n",
    "\n",
    "# classification report for precision, recall f1-score and accuracy\n",
    "matrix = classification_report(actual,predicted,labels=[0,1])\n",
    "print('Classification report : \\n',matrix)"
   ]
  },
  {
   "cell_type": "markdown",
   "metadata": {
    "id": "rxDwaNWhoLo7"
   },
   "source": [
    "### XGBoost"
   ]
  },
  {
   "cell_type": "code",
   "execution_count": 51,
   "metadata": {
    "colab": {
     "base_uri": "https://localhost:8080/"
    },
    "id": "IayM84MloN_E",
    "outputId": "60123bc7-8cb9-44de-8e48-80ed3b18a691"
   },
   "outputs": [
    {
     "name": "stdout",
     "output_type": "stream",
     "text": [
      "ROC XGBoost Baseline Train: 0.8273\n",
      "ROC XGBoost Baseline Test: 0.7321\n",
      "CPU times: user 11.2 s, sys: 947 ms, total: 12.2 s\n",
      "Wall time: 1.59 s\n"
     ]
    }
   ],
   "source": [
    "%%time\n",
    "model_xgboost = XGBClassifier(random_state=42)\n",
    "model_xgboost.fit(X_train, y_train)\n",
    "\n",
    "preds_xgb_train = model_xgboost.predict_proba(X_train)[:,1]\n",
    "preds_xgb_test = model_xgboost.predict_proba(X_test)[:,1]\n",
    "\n",
    "train_roc = round(roc_auc_score(y_train, preds_xgb_train) ,4) \n",
    "test_roc = round(roc_auc_score(y_test, preds_xgb_test) ,4)\n",
    "\n",
    "print(\"ROC XGBoost Baseline Train: \" + str(train_roc))\n",
    "print(\"ROC XGBoost Baseline Test: \" + str(test_roc))"
   ]
  },
  {
   "cell_type": "code",
   "execution_count": 52,
   "metadata": {},
   "outputs": [
    {
     "data": {
      "text/plain": [
       "{'objective': 'binary:logistic',\n",
       " 'base_score': None,\n",
       " 'booster': None,\n",
       " 'colsample_bylevel': None,\n",
       " 'colsample_bynode': None,\n",
       " 'colsample_bytree': None,\n",
       " 'eval_metric': None,\n",
       " 'gamma': None,\n",
       " 'gpu_id': None,\n",
       " 'grow_policy': None,\n",
       " 'interaction_constraints': None,\n",
       " 'learning_rate': None,\n",
       " 'max_bin': None,\n",
       " 'max_cat_threshold': None,\n",
       " 'max_cat_to_onehot': None,\n",
       " 'max_delta_step': None,\n",
       " 'max_depth': None,\n",
       " 'max_leaves': None,\n",
       " 'min_child_weight': None,\n",
       " 'monotone_constraints': None,\n",
       " 'n_jobs': None,\n",
       " 'num_parallel_tree': None,\n",
       " 'predictor': None,\n",
       " 'random_state': 42,\n",
       " 'reg_alpha': None,\n",
       " 'reg_lambda': None,\n",
       " 'sampling_method': None,\n",
       " 'scale_pos_weight': None,\n",
       " 'subsample': None,\n",
       " 'tree_method': None,\n",
       " 'validate_parameters': None,\n",
       " 'verbosity': None}"
      ]
     },
     "execution_count": 52,
     "metadata": {},
     "output_type": "execute_result"
    }
   ],
   "source": [
    "model_xgboost.get_xgb_params()"
   ]
  },
  {
   "cell_type": "code",
   "execution_count": 41,
   "metadata": {},
   "outputs": [],
   "source": [
    "#Tratamos de optimizar estos hiperparámetros:\n",
    "def default_objective(trial):\n",
    "\n",
    "    param = {\n",
    "                \"random_state\"     : 42,  \n",
    "                \"num_leaves\"       : trial.suggest_int(\"num_leaves\", 2, 12),\n",
    "                \"min_samples_split\": trial.suggest_int(\"min_samples_split\", 2, 12),\n",
    "                \"max_depth\": trial.suggest_int(\"max_depth\", 3, 12),\n",
    "                \"n_estimators\"     : trial.suggest_int(\"n_estimators\", 100, 600), \n",
    "                \"learning_rate\"   : trial.suggest_float('learning_rate', 0.01, 0.3),\n",
    "                \"reg_alpha\": trial.suggest_loguniform('reg_alpha', 1e-1, 1e1),\n",
    "                \"reg_lambda\": trial.suggest_loguniform('reg_lambda', 1e-1, 1e1),\n",
    "                \"feature_fraction\": trial.suggest_float(\"feature_fraction\", 0.2, 0.95, step=0.1),\n",
    "                ##\"subsample\"        : 1\n",
    "            }\n",
    "\n",
    "    \n",
    "    \n",
    "    model_pipeline = XGBClassifier(**param, silent=True,\n",
    "                                            ##monotone_constraints=monotone_constraints,\n",
    "                                            n_jobs=6)\n",
    "\n",
    "\n",
    "    m = model_pipeline.fit(X_train, y_train)\n",
    "    \n",
    "    preds           = m.predict_proba(X_test)[:, 1]\n",
    "    roc_score       = roc_auc_score(y_test, preds)\n",
    "    preds_train     = m.predict_proba(X_train)[:, 1]\n",
    "    roc_score_train = roc_auc_score(y_train, preds_train)\n",
    "    trial.set_user_attr('overfit', roc_score_train - roc_score)\n",
    "    if roc_score_train - roc_score < 0.045:\n",
    "        return roc_score\n",
    "    raise TrialPruned()\n",
    "\n",
    "    if objective  == None:\n",
    "        objective = default_objective\n",
    "    else:\n",
    "        objective = objective\n",
    "    gc.collect()"
   ]
  },
  {
   "cell_type": "code",
   "execution_count": 42,
   "metadata": {},
   "outputs": [],
   "source": [
    "def do_optuna_tuning(minimize_overfit = True):\n",
    "    \n",
    "    study = optuna.create_study(direction = \"maximize\")\n",
    "    study.optimize(default_objective, n_trials = 100, n_jobs=6)\n",
    "\n",
    "    if minimize_overfit:\n",
    "        trial      = study.best_trial\n",
    "        best_trial = sorted([t for t in study.trials if t.value != None and t.value >= trial.value - 0.0005],\n",
    "                            key = lambda a: a.user_attrs['overfit'])[0]\n",
    "    else:\n",
    "        best_trial = study.best_trial\n",
    "    params         = best_trial.params\n",
    "    params.update({'random_state': 42}) \n",
    "    return study,trial,best_trial"
   ]
  },
  {
   "cell_type": "code",
   "execution_count": 43,
   "metadata": {
    "collapsed": true,
    "jupyter": {
     "outputs_hidden": true
    },
    "tags": []
   },
   "outputs": [
    {
     "name": "stderr",
     "output_type": "stream",
     "text": [
      "\u001b[32m[I 2023-02-15 15:17:15,967]\u001b[0m A new study created in memory with name: no-name-5f37c595-3c14-4e53-9fcb-39f89411b14d\u001b[0m\n",
      "[15:17:16] WARNING: /Users/runner/work/xgboost/xgboost/python-package/build/temp.macosx-10.9-x86_64-cpython-38/xgboost/src/learner.cc:767: \n",
      "Parameters: { \"feature_fraction\", \"min_samples_split\", \"num_leaves\", \"silent\" } are not used.\n",
      "\n",
      "[15:17:16] WARNING: /Users/runner/work/xgboost/xgboost/python-package/build/temp.macosx-10.9-x86_64-cpython-38/xgboost/src/learner.cc:767: \n",
      "Parameters: { \"feature_fraction\", \"min_samples_split\", \"num_leaves\", \"silent\" } are not used.\n",
      "\n",
      "[15:17:16] WARNING: /Users/runner/work/xgboost/xgboost/python-package/build/temp.macosx-10.9-x86_64-cpython-38/xgboost/src/learner.cc:767: \n",
      "Parameters: { \"feature_fraction\", \"min_samples_split\", \"num_leaves\", \"silent\" } are not used.\n",
      "\n",
      "[15:17:16] WARNING: /Users/runner/work/xgboost/xgboost/python-package/build/temp.macosx-10.9-x86_64-cpython-38/xgboost/src/learner.cc:767: \n",
      "Parameters: { \"feature_fraction\", \"min_samples_split\", \"num_leaves\", \"silent\" } are not used.\n",
      "\n",
      "[15:17:16] WARNING: /Users/runner/work/xgboost/xgboost/python-package/build/temp.macosx-10.9-x86_64-cpython-38/xgboost/src/learner.cc:767: \n",
      "Parameters: { \"feature_fraction\", \"min_samples_split\", \"num_leaves\", \"silent\" } are not used.\n",
      "\n",
      "[15:17:16] WARNING: /Users/runner/work/xgboost/xgboost/python-package/build/temp.macosx-10.9-x86_64-cpython-38/xgboost/src/learner.cc:767: \n",
      "Parameters: { \"feature_fraction\", \"min_samples_split\", \"num_leaves\", \"silent\" } are not used.\n",
      "\n",
      "\u001b[32m[I 2023-02-15 15:17:22,477]\u001b[0m Trial 0 finished with value: 0.6962765149523684 and parameters: {'num_leaves': 12, 'min_samples_split': 3, 'max_depth': 3, 'n_estimators': 140, 'learning_rate': 0.1281912444961381, 'reg_alpha': 0.11416009139946322, 'reg_lambda': 9.643252653665563, 'feature_fraction': 0.7}. Best is trial 0 with value: 0.6962765149523684.\u001b[0m\n",
      "[15:17:22] WARNING: /Users/runner/work/xgboost/xgboost/python-package/build/temp.macosx-10.9-x86_64-cpython-38/xgboost/src/learner.cc:767: \n",
      "Parameters: { \"feature_fraction\", \"min_samples_split\", \"num_leaves\", \"silent\" } are not used.\n",
      "\n",
      "\u001b[32m[I 2023-02-15 15:17:41,131]\u001b[0m Trial 5 pruned. \u001b[0m\n",
      "[15:17:41] WARNING: /Users/runner/work/xgboost/xgboost/python-package/build/temp.macosx-10.9-x86_64-cpython-38/xgboost/src/learner.cc:767: \n",
      "Parameters: { \"feature_fraction\", \"min_samples_split\", \"num_leaves\", \"silent\" } are not used.\n",
      "\n",
      "\u001b[32m[I 2023-02-15 15:17:56,269]\u001b[0m Trial 2 pruned. \u001b[0m\n",
      "[15:17:56] WARNING: /Users/runner/work/xgboost/xgboost/python-package/build/temp.macosx-10.9-x86_64-cpython-38/xgboost/src/learner.cc:767: \n",
      "Parameters: { \"feature_fraction\", \"min_samples_split\", \"num_leaves\", \"silent\" } are not used.\n",
      "\n",
      "\u001b[32m[I 2023-02-15 15:18:03,465]\u001b[0m Trial 4 pruned. \u001b[0m\n",
      "[15:18:03] WARNING: /Users/runner/work/xgboost/xgboost/python-package/build/temp.macosx-10.9-x86_64-cpython-38/xgboost/src/learner.cc:767: \n",
      "Parameters: { \"feature_fraction\", \"min_samples_split\", \"num_leaves\", \"silent\" } are not used.\n",
      "\n",
      "\u001b[32m[I 2023-02-15 15:18:15,290]\u001b[0m Trial 6 pruned. \u001b[0m\n",
      "[15:18:15] WARNING: /Users/runner/work/xgboost/xgboost/python-package/build/temp.macosx-10.9-x86_64-cpython-38/xgboost/src/learner.cc:767: \n",
      "Parameters: { \"feature_fraction\", \"min_samples_split\", \"num_leaves\", \"silent\" } are not used.\n",
      "\n",
      "\u001b[32m[I 2023-02-15 15:18:30,560]\u001b[0m Trial 7 pruned. \u001b[0m\n",
      "[15:18:30] WARNING: /Users/runner/work/xgboost/xgboost/python-package/build/temp.macosx-10.9-x86_64-cpython-38/xgboost/src/learner.cc:767: \n",
      "Parameters: { \"feature_fraction\", \"min_samples_split\", \"num_leaves\", \"silent\" } are not used.\n",
      "\n",
      "\u001b[32m[I 2023-02-15 15:18:33,885]\u001b[0m Trial 1 pruned. \u001b[0m\n",
      "[15:18:33] WARNING: /Users/runner/work/xgboost/xgboost/python-package/build/temp.macosx-10.9-x86_64-cpython-38/xgboost/src/learner.cc:767: \n",
      "Parameters: { \"feature_fraction\", \"min_samples_split\", \"num_leaves\", \"silent\" } are not used.\n",
      "\n",
      "\u001b[32m[I 2023-02-15 15:18:36,155]\u001b[0m Trial 10 pruned. \u001b[0m\n",
      "[15:18:36] WARNING: /Users/runner/work/xgboost/xgboost/python-package/build/temp.macosx-10.9-x86_64-cpython-38/xgboost/src/learner.cc:767: \n",
      "Parameters: { \"feature_fraction\", \"min_samples_split\", \"num_leaves\", \"silent\" } are not used.\n",
      "\n",
      "\u001b[32m[I 2023-02-15 15:18:37,341]\u001b[0m Trial 8 pruned. \u001b[0m\n",
      "[15:18:37] WARNING: /Users/runner/work/xgboost/xgboost/python-package/build/temp.macosx-10.9-x86_64-cpython-38/xgboost/src/learner.cc:767: \n",
      "Parameters: { \"feature_fraction\", \"min_samples_split\", \"num_leaves\", \"silent\" } are not used.\n",
      "\n",
      "\u001b[32m[I 2023-02-15 15:18:52,087]\u001b[0m Trial 13 finished with value: 0.7232331923644416 and parameters: {'num_leaves': 7, 'min_samples_split': 6, 'max_depth': 3, 'n_estimators': 372, 'learning_rate': 0.2680659142221002, 'reg_alpha': 0.7202428708748124, 'reg_lambda': 0.6496151378179467, 'feature_fraction': 0.2}. Best is trial 13 with value: 0.7232331923644416.\u001b[0m\n",
      "[15:18:52] WARNING: /Users/runner/work/xgboost/xgboost/python-package/build/temp.macosx-10.9-x86_64-cpython-38/xgboost/src/learner.cc:767: \n",
      "Parameters: { \"feature_fraction\", \"min_samples_split\", \"num_leaves\", \"silent\" } are not used.\n",
      "\n",
      "\u001b[32m[I 2023-02-15 15:19:05,388]\u001b[0m Trial 3 pruned. \u001b[0m\n",
      "[15:19:05] WARNING: /Users/runner/work/xgboost/xgboost/python-package/build/temp.macosx-10.9-x86_64-cpython-38/xgboost/src/learner.cc:767: \n",
      "Parameters: { \"feature_fraction\", \"min_samples_split\", \"num_leaves\", \"silent\" } are not used.\n",
      "\n",
      "\u001b[32m[I 2023-02-15 15:19:11,176]\u001b[0m Trial 16 finished with value: 0.7090967126735358 and parameters: {'num_leaves': 9, 'min_samples_split': 10, 'max_depth': 3, 'n_estimators': 119, 'learning_rate': 0.27877218304932894, 'reg_alpha': 0.18003384244981813, 'reg_lambda': 8.743857341940295, 'feature_fraction': 0.7}. Best is trial 13 with value: 0.7232331923644416.\u001b[0m\n",
      "[15:19:11] WARNING: /Users/runner/work/xgboost/xgboost/python-package/build/temp.macosx-10.9-x86_64-cpython-38/xgboost/src/learner.cc:767: \n",
      "Parameters: { \"feature_fraction\", \"min_samples_split\", \"num_leaves\", \"silent\" } are not used.\n",
      "\n",
      "\u001b[32m[I 2023-02-15 15:19:12,212]\u001b[0m Trial 11 finished with value: 0.7173517856652153 and parameters: {'num_leaves': 5, 'min_samples_split': 7, 'max_depth': 6, 'n_estimators': 368, 'learning_rate': 0.015071169692823507, 'reg_alpha': 0.1545159664793493, 'reg_lambda': 0.36074454014776064, 'feature_fraction': 0.8}. Best is trial 13 with value: 0.7232331923644416.\u001b[0m\n",
      "[15:19:12] WARNING: /Users/runner/work/xgboost/xgboost/python-package/build/temp.macosx-10.9-x86_64-cpython-38/xgboost/src/learner.cc:767: \n",
      "Parameters: { \"feature_fraction\", \"min_samples_split\", \"num_leaves\", \"silent\" } are not used.\n",
      "\n",
      "\u001b[32m[I 2023-02-15 15:19:19,962]\u001b[0m Trial 15 pruned. \u001b[0m\n",
      "[15:19:20] WARNING: /Users/runner/work/xgboost/xgboost/python-package/build/temp.macosx-10.9-x86_64-cpython-38/xgboost/src/learner.cc:767: \n",
      "Parameters: { \"feature_fraction\", \"min_samples_split\", \"num_leaves\", \"silent\" } are not used.\n",
      "\n",
      "\u001b[32m[I 2023-02-15 15:19:26,624]\u001b[0m Trial 17 finished with value: 0.7231058178276545 and parameters: {'num_leaves': 9, 'min_samples_split': 10, 'max_depth': 3, 'n_estimators': 345, 'learning_rate': 0.2759525301788458, 'reg_alpha': 0.37363250774651185, 'reg_lambda': 3.837970808769481, 'feature_fraction': 0.7}. Best is trial 13 with value: 0.7232331923644416.\u001b[0m\n",
      "[15:19:26] WARNING: /Users/runner/work/xgboost/xgboost/python-package/build/temp.macosx-10.9-x86_64-cpython-38/xgboost/src/learner.cc:767: \n",
      "Parameters: { \"feature_fraction\", \"min_samples_split\", \"num_leaves\", \"silent\" } are not used.\n",
      "\n",
      "\u001b[32m[I 2023-02-15 15:19:34,578]\u001b[0m Trial 14 pruned. \u001b[0m\n",
      "[15:19:34] WARNING: /Users/runner/work/xgboost/xgboost/python-package/build/temp.macosx-10.9-x86_64-cpython-38/xgboost/src/learner.cc:767: \n",
      "Parameters: { \"feature_fraction\", \"min_samples_split\", \"num_leaves\", \"silent\" } are not used.\n",
      "\n",
      "\u001b[32m[I 2023-02-15 15:19:42,861]\u001b[0m Trial 18 pruned. \u001b[0m\n",
      "[15:19:42] WARNING: /Users/runner/work/xgboost/xgboost/python-package/build/temp.macosx-10.9-x86_64-cpython-38/xgboost/src/learner.cc:767: \n",
      "Parameters: { \"feature_fraction\", \"min_samples_split\", \"num_leaves\", \"silent\" } are not used.\n",
      "\n",
      "\u001b[32m[I 2023-02-15 15:20:00,116]\u001b[0m Trial 22 pruned. \u001b[0m\n",
      "[15:20:00] WARNING: /Users/runner/work/xgboost/xgboost/python-package/build/temp.macosx-10.9-x86_64-cpython-38/xgboost/src/learner.cc:767: \n",
      "Parameters: { \"feature_fraction\", \"min_samples_split\", \"num_leaves\", \"silent\" } are not used.\n",
      "\n",
      "\u001b[32m[I 2023-02-15 15:20:05,271]\u001b[0m Trial 9 pruned. \u001b[0m\n",
      "[15:20:05] WARNING: /Users/runner/work/xgboost/xgboost/python-package/build/temp.macosx-10.9-x86_64-cpython-38/xgboost/src/learner.cc:767: \n",
      "Parameters: { \"feature_fraction\", \"min_samples_split\", \"num_leaves\", \"silent\" } are not used.\n",
      "\n",
      "\u001b[32m[I 2023-02-15 15:20:08,020]\u001b[0m Trial 21 pruned. \u001b[0m\n",
      "[15:20:08] WARNING: /Users/runner/work/xgboost/xgboost/python-package/build/temp.macosx-10.9-x86_64-cpython-38/xgboost/src/learner.cc:767: \n",
      "Parameters: { \"feature_fraction\", \"min_samples_split\", \"num_leaves\", \"silent\" } are not used.\n",
      "\n",
      "\u001b[32m[I 2023-02-15 15:20:20,822]\u001b[0m Trial 25 pruned. \u001b[0m\n",
      "[15:20:20] WARNING: /Users/runner/work/xgboost/xgboost/python-package/build/temp.macosx-10.9-x86_64-cpython-38/xgboost/src/learner.cc:767: \n",
      "Parameters: { \"feature_fraction\", \"min_samples_split\", \"num_leaves\", \"silent\" } are not used.\n",
      "\n",
      "\u001b[32m[I 2023-02-15 15:20:35,496]\u001b[0m Trial 23 pruned. \u001b[0m\n",
      "[15:20:35] WARNING: /Users/runner/work/xgboost/xgboost/python-package/build/temp.macosx-10.9-x86_64-cpython-38/xgboost/src/learner.cc:767: \n",
      "Parameters: { \"feature_fraction\", \"min_samples_split\", \"num_leaves\", \"silent\" } are not used.\n",
      "\n",
      "\u001b[32m[I 2023-02-15 15:20:38,154]\u001b[0m Trial 12 pruned. \u001b[0m\n",
      "[15:20:38] WARNING: /Users/runner/work/xgboost/xgboost/python-package/build/temp.macosx-10.9-x86_64-cpython-38/xgboost/src/learner.cc:767: \n",
      "Parameters: { \"feature_fraction\", \"min_samples_split\", \"num_leaves\", \"silent\" } are not used.\n",
      "\n",
      "\u001b[32m[I 2023-02-15 15:20:41,271]\u001b[0m Trial 24 pruned. \u001b[0m\n",
      "[15:20:41] WARNING: /Users/runner/work/xgboost/xgboost/python-package/build/temp.macosx-10.9-x86_64-cpython-38/xgboost/src/learner.cc:767: \n",
      "Parameters: { \"feature_fraction\", \"min_samples_split\", \"num_leaves\", \"silent\" } are not used.\n",
      "\n",
      "\u001b[32m[I 2023-02-15 15:20:57,514]\u001b[0m Trial 26 pruned. \u001b[0m\n",
      "[15:20:57] WARNING: /Users/runner/work/xgboost/xgboost/python-package/build/temp.macosx-10.9-x86_64-cpython-38/xgboost/src/learner.cc:767: \n",
      "Parameters: { \"feature_fraction\", \"min_samples_split\", \"num_leaves\", \"silent\" } are not used.\n",
      "\n",
      "\u001b[32m[I 2023-02-15 15:21:03,161]\u001b[0m Trial 20 pruned. \u001b[0m\n",
      "[15:21:03] WARNING: /Users/runner/work/xgboost/xgboost/python-package/build/temp.macosx-10.9-x86_64-cpython-38/xgboost/src/learner.cc:767: \n",
      "Parameters: { \"feature_fraction\", \"min_samples_split\", \"num_leaves\", \"silent\" } are not used.\n",
      "\n",
      "\u001b[32m[I 2023-02-15 15:21:13,106]\u001b[0m Trial 27 finished with value: 0.7202560066638167 and parameters: {'num_leaves': 6, 'min_samples_split': 8, 'max_depth': 6, 'n_estimators': 318, 'learning_rate': 0.020889118715266025, 'reg_alpha': 0.1994565386356059, 'reg_lambda': 0.7057324530745164, 'feature_fraction': 0.8}. Best is trial 13 with value: 0.7232331923644416.\u001b[0m\n",
      "[15:21:13] WARNING: /Users/runner/work/xgboost/xgboost/python-package/build/temp.macosx-10.9-x86_64-cpython-38/xgboost/src/learner.cc:767: \n",
      "Parameters: { \"feature_fraction\", \"min_samples_split\", \"num_leaves\", \"silent\" } are not used.\n",
      "\n",
      "\u001b[32m[I 2023-02-15 15:21:17,131]\u001b[0m Trial 28 finished with value: 0.7180243643130708 and parameters: {'num_leaves': 4, 'min_samples_split': 8, 'max_depth': 6, 'n_estimators': 322, 'learning_rate': 0.018143637279958352, 'reg_alpha': 0.21326416087728592, 'reg_lambda': 0.5649701493887043, 'feature_fraction': 0.8}. Best is trial 13 with value: 0.7232331923644416.\u001b[0m\n",
      "[15:21:17] WARNING: /Users/runner/work/xgboost/xgboost/python-package/build/temp.macosx-10.9-x86_64-cpython-38/xgboost/src/learner.cc:767: \n",
      "Parameters: { \"feature_fraction\", \"min_samples_split\", \"num_leaves\", \"silent\" } are not used.\n",
      "\n",
      "\u001b[32m[I 2023-02-15 15:21:21,136]\u001b[0m Trial 29 finished with value: 0.7096537821752064 and parameters: {'num_leaves': 4, 'min_samples_split': 8, 'max_depth': 6, 'n_estimators': 318, 'learning_rate': 0.011288983503673574, 'reg_alpha': 0.20050228874904957, 'reg_lambda': 0.5766178053593297, 'feature_fraction': 0.8}. Best is trial 13 with value: 0.7232331923644416.\u001b[0m\n",
      "[15:21:21] WARNING: /Users/runner/work/xgboost/xgboost/python-package/build/temp.macosx-10.9-x86_64-cpython-38/xgboost/src/learner.cc:767: \n",
      "Parameters: { \"feature_fraction\", \"min_samples_split\", \"num_leaves\", \"silent\" } are not used.\n",
      "\n",
      "\u001b[32m[I 2023-02-15 15:21:24,125]\u001b[0m Trial 30 pruned. \u001b[0m\n",
      "[15:21:24] WARNING: /Users/runner/work/xgboost/xgboost/python-package/build/temp.macosx-10.9-x86_64-cpython-38/xgboost/src/learner.cc:767: \n",
      "Parameters: { \"feature_fraction\", \"min_samples_split\", \"num_leaves\", \"silent\" } are not used.\n",
      "\n",
      "\u001b[32m[I 2023-02-15 15:21:29,890]\u001b[0m Trial 19 pruned. \u001b[0m\n",
      "[15:21:29] WARNING: /Users/runner/work/xgboost/xgboost/python-package/build/temp.macosx-10.9-x86_64-cpython-38/xgboost/src/learner.cc:767: \n",
      "Parameters: { \"feature_fraction\", \"min_samples_split\", \"num_leaves\", \"silent\" } are not used.\n",
      "\n",
      "\u001b[32m[I 2023-02-15 15:21:30,449]\u001b[0m Trial 31 pruned. \u001b[0m\n",
      "[15:21:30] WARNING: /Users/runner/work/xgboost/xgboost/python-package/build/temp.macosx-10.9-x86_64-cpython-38/xgboost/src/learner.cc:767: \n",
      "Parameters: { \"feature_fraction\", \"min_samples_split\", \"num_leaves\", \"silent\" } are not used.\n",
      "\n",
      "\u001b[32m[I 2023-02-15 15:21:35,931]\u001b[0m Trial 34 finished with value: 0.7207961289684675 and parameters: {'num_leaves': 10, 'min_samples_split': 6, 'max_depth': 3, 'n_estimators': 261, 'learning_rate': 0.26162614830465775, 'reg_alpha': 0.1368822208370634, 'reg_lambda': 0.8332932004051252, 'feature_fraction': 0.7}. Best is trial 13 with value: 0.7232331923644416.\u001b[0m\n",
      "[15:21:35] WARNING: /Users/runner/work/xgboost/xgboost/python-package/build/temp.macosx-10.9-x86_64-cpython-38/xgboost/src/learner.cc:767: \n",
      "Parameters: { \"feature_fraction\", \"min_samples_split\", \"num_leaves\", \"silent\" } are not used.\n",
      "\n",
      "\u001b[32m[I 2023-02-15 15:21:38,824]\u001b[0m Trial 32 pruned. \u001b[0m\n",
      "[15:21:38] WARNING: /Users/runner/work/xgboost/xgboost/python-package/build/temp.macosx-10.9-x86_64-cpython-38/xgboost/src/learner.cc:767: \n",
      "Parameters: { \"feature_fraction\", \"min_samples_split\", \"num_leaves\", \"silent\" } are not used.\n",
      "\n",
      "\u001b[32m[I 2023-02-15 15:21:38,994]\u001b[0m Trial 35 finished with value: 0.7200769984642906 and parameters: {'num_leaves': 12, 'min_samples_split': 6, 'max_depth': 3, 'n_estimators': 257, 'learning_rate': 0.2679513477198215, 'reg_alpha': 1.3639061425952224, 'reg_lambda': 0.8760221648294103, 'feature_fraction': 0.7}. Best is trial 13 with value: 0.7232331923644416.\u001b[0m\n",
      "[15:21:39] WARNING: /Users/runner/work/xgboost/xgboost/python-package/build/temp.macosx-10.9-x86_64-cpython-38/xgboost/src/learner.cc:767: \n",
      "Parameters: { \"feature_fraction\", \"min_samples_split\", \"num_leaves\", \"silent\" } are not used.\n",
      "\n",
      "\u001b[32m[I 2023-02-15 15:21:46,210]\u001b[0m Trial 36 finished with value: 0.6944814687850982 and parameters: {'num_leaves': 7, 'min_samples_split': 8, 'max_depth': 3, 'n_estimators': 276, 'learning_rate': 0.051668406922662814, 'reg_alpha': 0.1498653006774359, 'reg_lambda': 0.8502307756806743, 'feature_fraction': 0.7}. Best is trial 13 with value: 0.7232331923644416.\u001b[0m\n",
      "\u001b[32m[I 2023-02-15 15:21:46,275]\u001b[0m Trial 37 finished with value: 0.6956148763044401 and parameters: {'num_leaves': 7, 'min_samples_split': 6, 'max_depth': 3, 'n_estimators': 266, 'learning_rate': 0.05291937254650002, 'reg_alpha': 0.11454064649679203, 'reg_lambda': 0.724827234238526, 'feature_fraction': 0.7}. Best is trial 13 with value: 0.7232331923644416.\u001b[0m\n",
      "[15:21:46] WARNING: /Users/runner/work/xgboost/xgboost/python-package/build/temp.macosx-10.9-x86_64-cpython-38/xgboost/src/learner.cc:767: \n",
      "Parameters: { \"feature_fraction\", \"min_samples_split\", \"num_leaves\", \"silent\" } are not used.\n",
      "\n",
      "[15:21:46] WARNING: /Users/runner/work/xgboost/xgboost/python-package/build/temp.macosx-10.9-x86_64-cpython-38/xgboost/src/learner.cc:767: \n",
      "Parameters: { \"feature_fraction\", \"min_samples_split\", \"num_leaves\", \"silent\" } are not used.\n",
      "\n",
      "\u001b[32m[I 2023-02-15 15:21:51,579]\u001b[0m Trial 38 finished with value: 0.7172900668125793 and parameters: {'num_leaves': 10, 'min_samples_split': 6, 'max_depth': 3, 'n_estimators': 266, 'learning_rate': 0.21177621979563924, 'reg_alpha': 0.12686306748913587, 'reg_lambda': 0.8828357901457287, 'feature_fraction': 0.7}. Best is trial 13 with value: 0.7232331923644416.\u001b[0m\n",
      "[15:21:51] WARNING: /Users/runner/work/xgboost/xgboost/python-package/build/temp.macosx-10.9-x86_64-cpython-38/xgboost/src/learner.cc:767: \n",
      "Parameters: { \"feature_fraction\", \"min_samples_split\", \"num_leaves\", \"silent\" } are not used.\n",
      "\n",
      "\u001b[32m[I 2023-02-15 15:21:52,104]\u001b[0m Trial 40 finished with value: 0.7151522888769797 and parameters: {'num_leaves': 10, 'min_samples_split': 5, 'max_depth': 3, 'n_estimators': 222, 'learning_rate': 0.2131390741763385, 'reg_alpha': 0.12852490232808278, 'reg_lambda': 0.9955273496480032, 'feature_fraction': 0.9}. Best is trial 13 with value: 0.7232331923644416.\u001b[0m\n",
      "[15:21:52] WARNING: /Users/runner/work/xgboost/xgboost/python-package/build/temp.macosx-10.9-x86_64-cpython-38/xgboost/src/learner.cc:767: \n",
      "Parameters: { \"feature_fraction\", \"min_samples_split\", \"num_leaves\", \"silent\" } are not used.\n",
      "\n",
      "\u001b[32m[I 2023-02-15 15:21:53,974]\u001b[0m Trial 39 finished with value: 0.716387912854423 and parameters: {'num_leaves': 12, 'min_samples_split': 6, 'max_depth': 3, 'n_estimators': 260, 'learning_rate': 0.20253125075560127, 'reg_alpha': 0.14527461989384538, 'reg_lambda': 0.8847495772429048, 'feature_fraction': 0.7}. Best is trial 13 with value: 0.7232331923644416.\u001b[0m\n",
      "[15:21:54] WARNING: /Users/runner/work/xgboost/xgboost/python-package/build/temp.macosx-10.9-x86_64-cpython-38/xgboost/src/learner.cc:767: \n",
      "Parameters: { \"feature_fraction\", \"min_samples_split\", \"num_leaves\", \"silent\" } are not used.\n",
      "\n",
      "\u001b[32m[I 2023-02-15 15:21:54,481]\u001b[0m Trial 33 pruned. \u001b[0m\n",
      "[15:21:54] WARNING: /Users/runner/work/xgboost/xgboost/python-package/build/temp.macosx-10.9-x86_64-cpython-38/xgboost/src/learner.cc:767: \n",
      "Parameters: { \"feature_fraction\", \"min_samples_split\", \"num_leaves\", \"silent\" } are not used.\n",
      "\n",
      "\u001b[32m[I 2023-02-15 15:21:56,919]\u001b[0m Trial 41 finished with value: 0.712238806129336 and parameters: {'num_leaves': 10, 'min_samples_split': 5, 'max_depth': 3, 'n_estimators': 194, 'learning_rate': 0.2068685692725109, 'reg_alpha': 0.10139100136727697, 'reg_lambda': 1.6548244519267181, 'feature_fraction': 0.9}. Best is trial 13 with value: 0.7232331923644416.\u001b[0m\n",
      "[15:21:56] WARNING: /Users/runner/work/xgboost/xgboost/python-package/build/temp.macosx-10.9-x86_64-cpython-38/xgboost/src/learner.cc:767: \n",
      "Parameters: { \"feature_fraction\", \"min_samples_split\", \"num_leaves\", \"silent\" } are not used.\n",
      "\n",
      "\u001b[32m[I 2023-02-15 15:22:01,891]\u001b[0m Trial 42 finished with value: 0.7263960286874875 and parameters: {'num_leaves': 10, 'min_samples_split': 5, 'max_depth': 4, 'n_estimators': 212, 'learning_rate': 0.20301523697242135, 'reg_alpha': 0.6621121737222712, 'reg_lambda': 0.45890547125306674, 'feature_fraction': 0.9}. Best is trial 42 with value: 0.7263960286874875.\u001b[0m\n",
      "[15:22:01] WARNING: /Users/runner/work/xgboost/xgboost/python-package/build/temp.macosx-10.9-x86_64-cpython-38/xgboost/src/learner.cc:767: \n",
      "Parameters: { \"feature_fraction\", \"min_samples_split\", \"num_leaves\", \"silent\" } are not used.\n",
      "\n",
      "\u001b[32m[I 2023-02-15 15:22:08,022]\u001b[0m Trial 46 pruned. \u001b[0m\n",
      "[15:22:08] WARNING: /Users/runner/work/xgboost/xgboost/python-package/build/temp.macosx-10.9-x86_64-cpython-38/xgboost/src/learner.cc:767: \n",
      "Parameters: { \"feature_fraction\", \"min_samples_split\", \"num_leaves\", \"silent\" } are not used.\n",
      "\n",
      "\u001b[32m[I 2023-02-15 15:22:15,607]\u001b[0m Trial 48 pruned. \u001b[0m\n",
      "[15:22:15] WARNING: /Users/runner/work/xgboost/xgboost/python-package/build/temp.macosx-10.9-x86_64-cpython-38/xgboost/src/learner.cc:767: \n",
      "Parameters: { \"feature_fraction\", \"min_samples_split\", \"num_leaves\", \"silent\" } are not used.\n",
      "\n",
      "\u001b[32m[I 2023-02-15 15:22:26,131]\u001b[0m Trial 44 pruned. \u001b[0m\n",
      "[15:22:26] WARNING: /Users/runner/work/xgboost/xgboost/python-package/build/temp.macosx-10.9-x86_64-cpython-38/xgboost/src/learner.cc:767: \n",
      "Parameters: { \"feature_fraction\", \"min_samples_split\", \"num_leaves\", \"silent\" } are not used.\n",
      "\n",
      "\u001b[32m[I 2023-02-15 15:22:29,046]\u001b[0m Trial 43 pruned. \u001b[0m\n",
      "[15:22:29] WARNING: /Users/runner/work/xgboost/xgboost/python-package/build/temp.macosx-10.9-x86_64-cpython-38/xgboost/src/learner.cc:767: \n",
      "Parameters: { \"feature_fraction\", \"min_samples_split\", \"num_leaves\", \"silent\" } are not used.\n",
      "\n",
      "\u001b[32m[I 2023-02-15 15:22:31,168]\u001b[0m Trial 50 pruned. \u001b[0m\n",
      "[15:22:31] WARNING: /Users/runner/work/xgboost/xgboost/python-package/build/temp.macosx-10.9-x86_64-cpython-38/xgboost/src/learner.cc:767: \n",
      "Parameters: { \"feature_fraction\", \"min_samples_split\", \"num_leaves\", \"silent\" } are not used.\n",
      "\n",
      "\u001b[32m[I 2023-02-15 15:22:35,176]\u001b[0m Trial 49 pruned. \u001b[0m\n",
      "[15:22:35] WARNING: /Users/runner/work/xgboost/xgboost/python-package/build/temp.macosx-10.9-x86_64-cpython-38/xgboost/src/learner.cc:767: \n",
      "Parameters: { \"feature_fraction\", \"min_samples_split\", \"num_leaves\", \"silent\" } are not used.\n",
      "\n",
      "\u001b[32m[I 2023-02-15 15:22:38,473]\u001b[0m Trial 47 pruned. \u001b[0m\n",
      "[15:22:38] WARNING: /Users/runner/work/xgboost/xgboost/python-package/build/temp.macosx-10.9-x86_64-cpython-38/xgboost/src/learner.cc:767: \n",
      "Parameters: { \"feature_fraction\", \"min_samples_split\", \"num_leaves\", \"silent\" } are not used.\n",
      "\n",
      "\u001b[32m[I 2023-02-15 15:22:41,077]\u001b[0m Trial 51 pruned. \u001b[0m\n",
      "[15:22:41] WARNING: /Users/runner/work/xgboost/xgboost/python-package/build/temp.macosx-10.9-x86_64-cpython-38/xgboost/src/learner.cc:767: \n",
      "Parameters: { \"feature_fraction\", \"min_samples_split\", \"num_leaves\", \"silent\" } are not used.\n",
      "\n",
      "\u001b[32m[I 2023-02-15 15:22:55,565]\u001b[0m Trial 56 finished with value: 0.7220759991678385 and parameters: {'num_leaves': 7, 'min_samples_split': 6, 'max_depth': 3, 'n_estimators': 297, 'learning_rate': 0.2828493580217175, 'reg_alpha': 0.9077778315807965, 'reg_lambda': 0.729895644290814, 'feature_fraction': 0.8}. Best is trial 42 with value: 0.7263960286874875.\u001b[0m\n",
      "[15:22:55] WARNING: /Users/runner/work/xgboost/xgboost/python-package/build/temp.macosx-10.9-x86_64-cpython-38/xgboost/src/learner.cc:767: \n",
      "Parameters: { \"feature_fraction\", \"min_samples_split\", \"num_leaves\", \"silent\" } are not used.\n",
      "\n",
      "\u001b[32m[I 2023-02-15 15:23:01,006]\u001b[0m Trial 52 pruned. \u001b[0m\n",
      "[15:23:01] WARNING: /Users/runner/work/xgboost/xgboost/python-package/build/temp.macosx-10.9-x86_64-cpython-38/xgboost/src/learner.cc:767: \n",
      "Parameters: { \"feature_fraction\", \"min_samples_split\", \"num_leaves\", \"silent\" } are not used.\n",
      "\n",
      "\u001b[32m[I 2023-02-15 15:23:02,994]\u001b[0m Trial 54 pruned. \u001b[0m\n",
      "[15:23:03] WARNING: /Users/runner/work/xgboost/xgboost/python-package/build/temp.macosx-10.9-x86_64-cpython-38/xgboost/src/learner.cc:767: \n",
      "Parameters: { \"feature_fraction\", \"min_samples_split\", \"num_leaves\", \"silent\" } are not used.\n",
      "\n",
      "\u001b[32m[I 2023-02-15 15:23:12,657]\u001b[0m Trial 55 pruned. \u001b[0m\n",
      "[15:23:12] WARNING: /Users/runner/work/xgboost/xgboost/python-package/build/temp.macosx-10.9-x86_64-cpython-38/xgboost/src/learner.cc:767: \n",
      "Parameters: { \"feature_fraction\", \"min_samples_split\", \"num_leaves\", \"silent\" } are not used.\n",
      "\n",
      "\u001b[32m[I 2023-02-15 15:23:13,891]\u001b[0m Trial 57 finished with value: 0.7232263068304372 and parameters: {'num_leaves': 7, 'min_samples_split': 5, 'max_depth': 3, 'n_estimators': 344, 'learning_rate': 0.283621605221149, 'reg_alpha': 0.9323182530684275, 'reg_lambda': 0.6856771826757848, 'feature_fraction': 0.8}. Best is trial 42 with value: 0.7263960286874875.\u001b[0m\n",
      "[15:23:13] WARNING: /Users/runner/work/xgboost/xgboost/python-package/build/temp.macosx-10.9-x86_64-cpython-38/xgboost/src/learner.cc:767: \n",
      "Parameters: { \"feature_fraction\", \"min_samples_split\", \"num_leaves\", \"silent\" } are not used.\n",
      "\n",
      "\u001b[32m[I 2023-02-15 15:23:17,655]\u001b[0m Trial 58 finished with value: 0.7224761365271839 and parameters: {'num_leaves': 7, 'min_samples_split': 5, 'max_depth': 3, 'n_estimators': 306, 'learning_rate': 0.2881500183247982, 'reg_alpha': 0.9022160540637002, 'reg_lambda': 0.3130056048958035, 'feature_fraction': 0.8}. Best is trial 42 with value: 0.7263960286874875.\u001b[0m\n",
      "[15:23:17] WARNING: /Users/runner/work/xgboost/xgboost/python-package/build/temp.macosx-10.9-x86_64-cpython-38/xgboost/src/learner.cc:767: \n",
      "Parameters: { \"feature_fraction\", \"min_samples_split\", \"num_leaves\", \"silent\" } are not used.\n",
      "\n",
      "\u001b[32m[I 2023-02-15 15:23:20,890]\u001b[0m Trial 59 finished with value: 0.7229088037214382 and parameters: {'num_leaves': 7, 'min_samples_split': 5, 'max_depth': 3, 'n_estimators': 339, 'learning_rate': 0.28324768795665173, 'reg_alpha': 0.8907587197162853, 'reg_lambda': 1.049597174658768, 'feature_fraction': 0.8}. Best is trial 42 with value: 0.7263960286874875.\u001b[0m\n",
      "[15:23:20] WARNING: /Users/runner/work/xgboost/xgboost/python-package/build/temp.macosx-10.9-x86_64-cpython-38/xgboost/src/learner.cc:767: \n",
      "Parameters: { \"feature_fraction\", \"min_samples_split\", \"num_leaves\", \"silent\" } are not used.\n",
      "\n",
      "\u001b[32m[I 2023-02-15 15:23:24,107]\u001b[0m Trial 45 pruned. \u001b[0m\n",
      "[15:23:24] WARNING: /Users/runner/work/xgboost/xgboost/python-package/build/temp.macosx-10.9-x86_64-cpython-38/xgboost/src/learner.cc:767: \n",
      "Parameters: { \"feature_fraction\", \"min_samples_split\", \"num_leaves\", \"silent\" } are not used.\n",
      "\n",
      "\u001b[32m[I 2023-02-15 15:23:27,329]\u001b[0m Trial 53 pruned. \u001b[0m\n",
      "[15:23:27] WARNING: /Users/runner/work/xgboost/xgboost/python-package/build/temp.macosx-10.9-x86_64-cpython-38/xgboost/src/learner.cc:767: \n",
      "Parameters: { \"feature_fraction\", \"min_samples_split\", \"num_leaves\", \"silent\" } are not used.\n",
      "\n",
      "\u001b[32m[I 2023-02-15 15:23:28,286]\u001b[0m Trial 60 finished with value: 0.7214452513154036 and parameters: {'num_leaves': 7, 'min_samples_split': 5, 'max_depth': 3, 'n_estimators': 303, 'learning_rate': 0.281075640359558, 'reg_alpha': 0.980793603808377, 'reg_lambda': 1.1506671003951998, 'feature_fraction': 0.8}. Best is trial 42 with value: 0.7263960286874875.\u001b[0m\n",
      "[15:23:28] WARNING: /Users/runner/work/xgboost/xgboost/python-package/build/temp.macosx-10.9-x86_64-cpython-38/xgboost/src/learner.cc:767: \n",
      "Parameters: { \"feature_fraction\", \"min_samples_split\", \"num_leaves\", \"silent\" } are not used.\n",
      "\n",
      "\u001b[32m[I 2023-02-15 15:23:29,195]\u001b[0m Trial 63 finished with value: 0.7248612211994896 and parameters: {'num_leaves': 7, 'min_samples_split': 3, 'max_depth': 4, 'n_estimators': 111, 'learning_rate': 0.2889706262005057, 'reg_alpha': 0.9758545247885813, 'reg_lambda': 0.28286945059841684, 'feature_fraction': 0.30000000000000004}. Best is trial 42 with value: 0.7263960286874875.\u001b[0m\n",
      "[15:23:29] WARNING: /Users/runner/work/xgboost/xgboost/python-package/build/temp.macosx-10.9-x86_64-cpython-38/xgboost/src/learner.cc:767: \n",
      "Parameters: { \"feature_fraction\", \"min_samples_split\", \"num_leaves\", \"silent\" } are not used.\n",
      "\n",
      "\u001b[32m[I 2023-02-15 15:23:32,676]\u001b[0m Trial 62 finished with value: 0.7235029515884535 and parameters: {'num_leaves': 7, 'min_samples_split': 5, 'max_depth': 3, 'n_estimators': 294, 'learning_rate': 0.28406588138073774, 'reg_alpha': 1.0166273900447305, 'reg_lambda': 0.29845055627156436, 'feature_fraction': 0.8}. Best is trial 42 with value: 0.7263960286874875.\u001b[0m\n",
      "[15:23:32] WARNING: /Users/runner/work/xgboost/xgboost/python-package/build/temp.macosx-10.9-x86_64-cpython-38/xgboost/src/learner.cc:767: \n",
      "Parameters: { \"feature_fraction\", \"min_samples_split\", \"num_leaves\", \"silent\" } are not used.\n",
      "\n",
      "\u001b[32m[I 2023-02-15 15:23:34,288]\u001b[0m Trial 61 finished with value: 0.7241378950681006 and parameters: {'num_leaves': 7, 'min_samples_split': 5, 'max_depth': 3, 'n_estimators': 392, 'learning_rate': 0.28914684958707393, 'reg_alpha': 0.8292638778538677, 'reg_lambda': 0.3044180162247523, 'feature_fraction': 0.30000000000000004}. Best is trial 42 with value: 0.7263960286874875.\u001b[0m\n",
      "[15:23:34] WARNING: /Users/runner/work/xgboost/xgboost/python-package/build/temp.macosx-10.9-x86_64-cpython-38/xgboost/src/learner.cc:767: \n",
      "Parameters: { \"feature_fraction\", \"min_samples_split\", \"num_leaves\", \"silent\" } are not used.\n",
      "\n",
      "\u001b[32m[I 2023-02-15 15:23:36,676]\u001b[0m Trial 67 finished with value: 0.7225062744624673 and parameters: {'num_leaves': 8, 'min_samples_split': 2, 'max_depth': 4, 'n_estimators': 102, 'learning_rate': 0.2996584944884689, 'reg_alpha': 1.0788911370131877, 'reg_lambda': 0.2926108783451498, 'feature_fraction': 0.2}. Best is trial 42 with value: 0.7263960286874875.\u001b[0m\n",
      "[15:23:36] WARNING: /Users/runner/work/xgboost/xgboost/python-package/build/temp.macosx-10.9-x86_64-cpython-38/xgboost/src/learner.cc:767: \n",
      "Parameters: { \"feature_fraction\", \"min_samples_split\", \"num_leaves\", \"silent\" } are not used.\n",
      "\n",
      "\u001b[32m[I 2023-02-15 15:23:40,219]\u001b[0m Trial 68 finished with value: 0.7220661335621693 and parameters: {'num_leaves': 8, 'min_samples_split': 3, 'max_depth': 4, 'n_estimators': 109, 'learning_rate': 0.29843628604497946, 'reg_alpha': 1.0824625702494168, 'reg_lambda': 0.26923413594319834, 'feature_fraction': 0.2}. Best is trial 42 with value: 0.7263960286874875.\u001b[0m\n",
      "[15:23:40] WARNING: /Users/runner/work/xgboost/xgboost/python-package/build/temp.macosx-10.9-x86_64-cpython-38/xgboost/src/learner.cc:767: \n",
      "Parameters: { \"feature_fraction\", \"min_samples_split\", \"num_leaves\", \"silent\" } are not used.\n",
      "\n",
      "\u001b[32m[I 2023-02-15 15:23:41,971]\u001b[0m Trial 69 finished with value: 0.723010996652658 and parameters: {'num_leaves': 8, 'min_samples_split': 2, 'max_depth': 4, 'n_estimators': 117, 'learning_rate': 0.2975351641400751, 'reg_alpha': 0.5690673956064918, 'reg_lambda': 0.24936204273630178, 'feature_fraction': 0.30000000000000004}. Best is trial 42 with value: 0.7263960286874875.\u001b[0m\n",
      "[15:23:42] WARNING: /Users/runner/work/xgboost/xgboost/python-package/build/temp.macosx-10.9-x86_64-cpython-38/xgboost/src/learner.cc:767: \n",
      "Parameters: { \"feature_fraction\", \"min_samples_split\", \"num_leaves\", \"silent\" } are not used.\n",
      "\n",
      "\u001b[32m[I 2023-02-15 15:23:51,054]\u001b[0m Trial 64 pruned. \u001b[0m\n",
      "[15:23:51] WARNING: /Users/runner/work/xgboost/xgboost/python-package/build/temp.macosx-10.9-x86_64-cpython-38/xgboost/src/learner.cc:767: \n",
      "Parameters: { \"feature_fraction\", \"min_samples_split\", \"num_leaves\", \"silent\" } are not used.\n",
      "\n",
      "\u001b[32m[I 2023-02-15 15:23:55,229]\u001b[0m Trial 66 pruned. \u001b[0m\n",
      "[15:23:55] WARNING: /Users/runner/work/xgboost/xgboost/python-package/build/temp.macosx-10.9-x86_64-cpython-38/xgboost/src/learner.cc:767: \n",
      "Parameters: { \"feature_fraction\", \"min_samples_split\", \"num_leaves\", \"silent\" } are not used.\n",
      "\n",
      "\u001b[32m[I 2023-02-15 15:24:06,805]\u001b[0m Trial 71 pruned. \u001b[0m\n",
      "[15:24:06] WARNING: /Users/runner/work/xgboost/xgboost/python-package/build/temp.macosx-10.9-x86_64-cpython-38/xgboost/src/learner.cc:767: \n",
      "Parameters: { \"feature_fraction\", \"min_samples_split\", \"num_leaves\", \"silent\" } are not used.\n",
      "\n",
      "\u001b[32m[I 2023-02-15 15:24:08,806]\u001b[0m Trial 72 pruned. \u001b[0m\n",
      "[15:24:08] WARNING: /Users/runner/work/xgboost/xgboost/python-package/build/temp.macosx-10.9-x86_64-cpython-38/xgboost/src/learner.cc:767: \n",
      "Parameters: { \"feature_fraction\", \"min_samples_split\", \"num_leaves\", \"silent\" } are not used.\n",
      "\n",
      "\u001b[32m[I 2023-02-15 15:24:11,667]\u001b[0m Trial 73 finished with value: 0.7248670872352928 and parameters: {'num_leaves': 6, 'min_samples_split': 5, 'max_depth': 3, 'n_estimators': 436, 'learning_rate': 0.27214081828220604, 'reg_alpha': 0.5277614602451919, 'reg_lambda': 0.21695090872327444, 'feature_fraction': 0.30000000000000004}. Best is trial 42 with value: 0.7263960286874875.\u001b[0m\n",
      "[15:24:11] WARNING: /Users/runner/work/xgboost/xgboost/python-package/build/temp.macosx-10.9-x86_64-cpython-38/xgboost/src/learner.cc:767: \n",
      "Parameters: { \"feature_fraction\", \"min_samples_split\", \"num_leaves\", \"silent\" } are not used.\n",
      "\n",
      "\u001b[32m[I 2023-02-15 15:24:15,064]\u001b[0m Trial 76 finished with value: 0.7113826472246374 and parameters: {'num_leaves': 8, 'min_samples_split': 2, 'max_depth': 3, 'n_estimators': 134, 'learning_rate': 0.28840800806682315, 'reg_alpha': 0.7913285228122704, 'reg_lambda': 0.17687852751066463, 'feature_fraction': 0.30000000000000004}. Best is trial 42 with value: 0.7263960286874875.\u001b[0m\n",
      "[15:24:15] WARNING: /Users/runner/work/xgboost/xgboost/python-package/build/temp.macosx-10.9-x86_64-cpython-38/xgboost/src/learner.cc:767: \n",
      "Parameters: { \"feature_fraction\", \"min_samples_split\", \"num_leaves\", \"silent\" } are not used.\n",
      "\n",
      "\u001b[32m[I 2023-02-15 15:24:30,959]\u001b[0m Trial 77 finished with value: 0.7241386165591351 and parameters: {'num_leaves': 6, 'min_samples_split': 5, 'max_depth': 3, 'n_estimators': 429, 'learning_rate': 0.24423244038648473, 'reg_alpha': 0.7772224275568638, 'reg_lambda': 0.156042128929102, 'feature_fraction': 0.30000000000000004}. Best is trial 42 with value: 0.7263960286874875.\u001b[0m\n",
      "[15:24:31] WARNING: /Users/runner/work/xgboost/xgboost/python-package/build/temp.macosx-10.9-x86_64-cpython-38/xgboost/src/learner.cc:767: \n",
      "Parameters: { \"feature_fraction\", \"min_samples_split\", \"num_leaves\", \"silent\" } are not used.\n",
      "\n",
      "\u001b[32m[I 2023-02-15 15:24:34,106]\u001b[0m Trial 78 finished with value: 0.7247774576588281 and parameters: {'num_leaves': 6, 'min_samples_split': 5, 'max_depth': 3, 'n_estimators': 422, 'learning_rate': 0.2774874373482689, 'reg_alpha': 0.46129587299144503, 'reg_lambda': 0.38348963314596274, 'feature_fraction': 0.4}. Best is trial 42 with value: 0.7263960286874875.\u001b[0m\n",
      "[15:24:34] WARNING: /Users/runner/work/xgboost/xgboost/python-package/build/temp.macosx-10.9-x86_64-cpython-38/xgboost/src/learner.cc:767: \n",
      "Parameters: { \"feature_fraction\", \"min_samples_split\", \"num_leaves\", \"silent\" } are not used.\n",
      "\n",
      "\u001b[32m[I 2023-02-15 15:24:52,121]\u001b[0m Trial 80 finished with value: 0.724639943036087 and parameters: {'num_leaves': 5, 'min_samples_split': 6, 'max_depth': 3, 'n_estimators': 435, 'learning_rate': 0.2662370683041503, 'reg_alpha': 0.4639729107307167, 'reg_lambda': 0.16390020639318478, 'feature_fraction': 0.4}. Best is trial 42 with value: 0.7263960286874875.\u001b[0m\n",
      "[15:24:52] WARNING: /Users/runner/work/xgboost/xgboost/python-package/build/temp.macosx-10.9-x86_64-cpython-38/xgboost/src/learner.cc:767: \n",
      "Parameters: { \"feature_fraction\", \"min_samples_split\", \"num_leaves\", \"silent\" } are not used.\n",
      "\n",
      "\u001b[32m[I 2023-02-15 15:25:18,951]\u001b[0m Trial 65 pruned. \u001b[0m\n",
      "[15:25:19] WARNING: /Users/runner/work/xgboost/xgboost/python-package/build/temp.macosx-10.9-x86_64-cpython-38/xgboost/src/learner.cc:767: \n",
      "Parameters: { \"feature_fraction\", \"min_samples_split\", \"num_leaves\", \"silent\" } are not used.\n",
      "\n",
      "\u001b[32m[I 2023-02-15 15:25:26,974]\u001b[0m Trial 70 pruned. \u001b[0m\n",
      "[15:25:27] WARNING: /Users/runner/work/xgboost/xgboost/python-package/build/temp.macosx-10.9-x86_64-cpython-38/xgboost/src/learner.cc:767: \n",
      "Parameters: { \"feature_fraction\", \"min_samples_split\", \"num_leaves\", \"silent\" } are not used.\n",
      "\n",
      "\u001b[32m[I 2023-02-15 15:25:38,429]\u001b[0m Trial 82 finished with value: 0.7244349062632573 and parameters: {'num_leaves': 5, 'min_samples_split': 6, 'max_depth': 3, 'n_estimators': 438, 'learning_rate': 0.2480174443697209, 'reg_alpha': 0.442838665701645, 'reg_lambda': 0.17253990448909917, 'feature_fraction': 0.4}. Best is trial 42 with value: 0.7263960286874875.\u001b[0m\n",
      "[15:25:38] WARNING: /Users/runner/work/xgboost/xgboost/python-package/build/temp.macosx-10.9-x86_64-cpython-38/xgboost/src/learner.cc:767: \n",
      "Parameters: { \"feature_fraction\", \"min_samples_split\", \"num_leaves\", \"silent\" } are not used.\n",
      "\n",
      "\u001b[32m[I 2023-02-15 15:25:47,012]\u001b[0m Trial 83 finished with value: 0.7242677791389213 and parameters: {'num_leaves': 5, 'min_samples_split': 6, 'max_depth': 3, 'n_estimators': 436, 'learning_rate': 0.24454581643453327, 'reg_alpha': 0.4639138622933098, 'reg_lambda': 0.16388731817187313, 'feature_fraction': 0.4}. Best is trial 42 with value: 0.7263960286874875.\u001b[0m\n",
      "[15:25:47] WARNING: /Users/runner/work/xgboost/xgboost/python-package/build/temp.macosx-10.9-x86_64-cpython-38/xgboost/src/learner.cc:767: \n",
      "Parameters: { \"feature_fraction\", \"min_samples_split\", \"num_leaves\", \"silent\" } are not used.\n",
      "\n",
      "\u001b[32m[I 2023-02-15 15:25:52,938]\u001b[0m Trial 74 pruned. \u001b[0m\n",
      "[15:25:52] WARNING: /Users/runner/work/xgboost/xgboost/python-package/build/temp.macosx-10.9-x86_64-cpython-38/xgboost/src/learner.cc:767: \n",
      "Parameters: { \"feature_fraction\", \"min_samples_split\", \"num_leaves\", \"silent\" } are not used.\n",
      "\n",
      "\u001b[32m[I 2023-02-15 15:25:59,390]\u001b[0m Trial 84 finished with value: 0.7249013580594376 and parameters: {'num_leaves': 5, 'min_samples_split': 6, 'max_depth': 3, 'n_estimators': 444, 'learning_rate': 0.24468836412912823, 'reg_alpha': 0.4604794256348709, 'reg_lambda': 0.17429143415619852, 'feature_fraction': 0.4}. Best is trial 42 with value: 0.7263960286874875.\u001b[0m\n",
      "[15:25:59] WARNING: /Users/runner/work/xgboost/xgboost/python-package/build/temp.macosx-10.9-x86_64-cpython-38/xgboost/src/learner.cc:767: \n",
      "Parameters: { \"feature_fraction\", \"min_samples_split\", \"num_leaves\", \"silent\" } are not used.\n",
      "\n",
      "\u001b[32m[I 2023-02-15 15:26:00,419]\u001b[0m Trial 75 pruned. \u001b[0m\n",
      "[15:26:00] WARNING: /Users/runner/work/xgboost/xgboost/python-package/build/temp.macosx-10.9-x86_64-cpython-38/xgboost/src/learner.cc:767: \n",
      "Parameters: { \"feature_fraction\", \"min_samples_split\", \"num_leaves\", \"silent\" } are not used.\n",
      "\n",
      "\u001b[32m[I 2023-02-15 15:26:09,181]\u001b[0m Trial 85 finished with value: 0.7236661889350379 and parameters: {'num_leaves': 5, 'min_samples_split': 6, 'max_depth': 3, 'n_estimators': 438, 'learning_rate': 0.24944544460379695, 'reg_alpha': 0.4562635161393151, 'reg_lambda': 0.16513832585925925, 'feature_fraction': 0.4}. Best is trial 42 with value: 0.7263960286874875.\u001b[0m\n",
      "[15:26:09] WARNING: /Users/runner/work/xgboost/xgboost/python-package/build/temp.macosx-10.9-x86_64-cpython-38/xgboost/src/learner.cc:767: \n",
      "Parameters: { \"feature_fraction\", \"min_samples_split\", \"num_leaves\", \"silent\" } are not used.\n",
      "\n",
      "\u001b[32m[I 2023-02-15 15:26:15,807]\u001b[0m Trial 86 finished with value: 0.7233331580842066 and parameters: {'num_leaves': 5, 'min_samples_split': 6, 'max_depth': 3, 'n_estimators': 442, 'learning_rate': 0.24532905714433348, 'reg_alpha': 0.4219893067382013, 'reg_lambda': 0.15092667890596662, 'feature_fraction': 0.4}. Best is trial 42 with value: 0.7263960286874875.\u001b[0m\n",
      "[15:26:15] WARNING: /Users/runner/work/xgboost/xgboost/python-package/build/temp.macosx-10.9-x86_64-cpython-38/xgboost/src/learner.cc:767: \n",
      "Parameters: { \"feature_fraction\", \"min_samples_split\", \"num_leaves\", \"silent\" } are not used.\n",
      "\n",
      "\u001b[32m[I 2023-02-15 15:26:22,743]\u001b[0m Trial 87 finished with value: 0.7237952966187668 and parameters: {'num_leaves': 5, 'min_samples_split': 6, 'max_depth': 3, 'n_estimators': 442, 'learning_rate': 0.2457771036953369, 'reg_alpha': 0.42545077199064135, 'reg_lambda': 0.1655778036877588, 'feature_fraction': 0.4}. Best is trial 42 with value: 0.7263960286874875.\u001b[0m\n",
      "[15:26:22] WARNING: /Users/runner/work/xgboost/xgboost/python-package/build/temp.macosx-10.9-x86_64-cpython-38/xgboost/src/learner.cc:767: \n",
      "Parameters: { \"feature_fraction\", \"min_samples_split\", \"num_leaves\", \"silent\" } are not used.\n",
      "\n",
      "\u001b[32m[I 2023-02-15 15:26:23,844]\u001b[0m Trial 88 finished with value: 0.7251955460288066 and parameters: {'num_leaves': 5, 'min_samples_split': 6, 'max_depth': 3, 'n_estimators': 448, 'learning_rate': 0.24699580715579444, 'reg_alpha': 0.46982829692420386, 'reg_lambda': 0.1737333845551605, 'feature_fraction': 0.4}. Best is trial 42 with value: 0.7263960286874875.\u001b[0m\n",
      "[15:26:23] WARNING: /Users/runner/work/xgboost/xgboost/python-package/build/temp.macosx-10.9-x86_64-cpython-38/xgboost/src/learner.cc:767: \n",
      "Parameters: { \"feature_fraction\", \"min_samples_split\", \"num_leaves\", \"silent\" } are not used.\n",
      "\n",
      "\u001b[32m[I 2023-02-15 15:26:33,360]\u001b[0m Trial 89 finished with value: 0.7241049966453803 and parameters: {'num_leaves': 5, 'min_samples_split': 6, 'max_depth': 3, 'n_estimators': 488, 'learning_rate': 0.24394432559864399, 'reg_alpha': 0.4029990317248512, 'reg_lambda': 0.1338039309417825, 'feature_fraction': 0.4}. Best is trial 42 with value: 0.7263960286874875.\u001b[0m\n",
      "[15:26:33] WARNING: /Users/runner/work/xgboost/xgboost/python-package/build/temp.macosx-10.9-x86_64-cpython-38/xgboost/src/learner.cc:767: \n",
      "Parameters: { \"feature_fraction\", \"min_samples_split\", \"num_leaves\", \"silent\" } are not used.\n",
      "\n",
      "\u001b[32m[I 2023-02-15 15:26:38,375]\u001b[0m Trial 79 pruned. \u001b[0m\n",
      "[15:26:38] WARNING: /Users/runner/work/xgboost/xgboost/python-package/build/temp.macosx-10.9-x86_64-cpython-38/xgboost/src/learner.cc:767: \n",
      "Parameters: { \"feature_fraction\", \"min_samples_split\", \"num_leaves\", \"silent\" } are not used.\n",
      "\n",
      "\u001b[32m[I 2023-02-15 15:26:40,315]\u001b[0m Trial 90 finished with value: 0.7254090054252362 and parameters: {'num_leaves': 5, 'min_samples_split': 6, 'max_depth': 3, 'n_estimators': 494, 'learning_rate': 0.23405676367773284, 'reg_alpha': 0.3515804949880739, 'reg_lambda': 0.1473269603387303, 'feature_fraction': 0.5}. Best is trial 42 with value: 0.7263960286874875.\u001b[0m\n",
      "[15:26:40] WARNING: /Users/runner/work/xgboost/xgboost/python-package/build/temp.macosx-10.9-x86_64-cpython-38/xgboost/src/learner.cc:767: \n",
      "Parameters: { \"feature_fraction\", \"min_samples_split\", \"num_leaves\", \"silent\" } are not used.\n",
      "\n",
      "\u001b[32m[I 2023-02-15 15:26:56,266]\u001b[0m Trial 91 pruned. \u001b[0m\n",
      "[15:26:56] WARNING: /Users/runner/work/xgboost/xgboost/python-package/build/temp.macosx-10.9-x86_64-cpython-38/xgboost/src/learner.cc:767: \n",
      "Parameters: { \"feature_fraction\", \"min_samples_split\", \"num_leaves\", \"silent\" } are not used.\n",
      "\n",
      "\u001b[32m[I 2023-02-15 15:26:58,135]\u001b[0m Trial 92 pruned. \u001b[0m\n",
      "[15:26:58] WARNING: /Users/runner/work/xgboost/xgboost/python-package/build/temp.macosx-10.9-x86_64-cpython-38/xgboost/src/learner.cc:767: \n",
      "Parameters: { \"feature_fraction\", \"min_samples_split\", \"num_leaves\", \"silent\" } are not used.\n",
      "\n",
      "\u001b[32m[I 2023-02-15 15:27:01,663]\u001b[0m Trial 81 pruned. \u001b[0m\n",
      "[15:27:01] WARNING: /Users/runner/work/xgboost/xgboost/python-package/build/temp.macosx-10.9-x86_64-cpython-38/xgboost/src/learner.cc:767: \n",
      "Parameters: { \"feature_fraction\", \"min_samples_split\", \"num_leaves\", \"silent\" } are not used.\n",
      "\n",
      "\u001b[32m[I 2023-02-15 15:27:12,286]\u001b[0m Trial 94 pruned. \u001b[0m\n",
      "[15:27:12] WARNING: /Users/runner/work/xgboost/xgboost/python-package/build/temp.macosx-10.9-x86_64-cpython-38/xgboost/src/learner.cc:767: \n",
      "Parameters: { \"feature_fraction\", \"min_samples_split\", \"num_leaves\", \"silent\" } are not used.\n",
      "\n",
      "\u001b[32m[I 2023-02-15 15:27:12,563]\u001b[0m Trial 93 pruned. \u001b[0m\n",
      "\u001b[32m[I 2023-02-15 15:27:19,060]\u001b[0m Trial 95 pruned. \u001b[0m\n",
      "\u001b[32m[I 2023-02-15 15:27:19,339]\u001b[0m Trial 96 finished with value: 0.7241665900213147 and parameters: {'num_leaves': 4, 'min_samples_split': 7, 'max_depth': 3, 'n_estimators': 453, 'learning_rate': 0.25738807553889415, 'reg_alpha': 0.4891225653190067, 'reg_lambda': 0.10344011646373594, 'feature_fraction': 0.5}. Best is trial 42 with value: 0.7263960286874875.\u001b[0m\n",
      "\u001b[32m[I 2023-02-15 15:27:22,415]\u001b[0m Trial 97 finished with value: 0.7254090916904686 and parameters: {'num_leaves': 4, 'min_samples_split': 6, 'max_depth': 3, 'n_estimators': 524, 'learning_rate': 0.25861936547768166, 'reg_alpha': 0.49138888937513253, 'reg_lambda': 0.18784725907883468, 'feature_fraction': 0.4}. Best is trial 42 with value: 0.7263960286874875.\u001b[0m\n",
      "\u001b[32m[I 2023-02-15 15:27:23,646]\u001b[0m Trial 98 finished with value: 0.7248235311352242 and parameters: {'num_leaves': 4, 'min_samples_split': 7, 'max_depth': 3, 'n_estimators': 532, 'learning_rate': 0.259893504667999, 'reg_alpha': 0.37793221311517006, 'reg_lambda': 0.18692165211518583, 'feature_fraction': 0.5}. Best is trial 42 with value: 0.7263960286874875.\u001b[0m\n",
      "\u001b[32m[I 2023-02-15 15:27:25,861]\u001b[0m Trial 99 finished with value: 0.7251330194199037 and parameters: {'num_leaves': 4, 'min_samples_split': 7, 'max_depth': 3, 'n_estimators': 534, 'learning_rate': 0.2593736633148495, 'reg_alpha': 0.616844203397619, 'reg_lambda': 0.1875744131083075, 'feature_fraction': 0.4}. Best is trial 42 with value: 0.7263960286874875.\u001b[0m\n"
     ]
    }
   ],
   "source": [
    "gc.collect()\n",
    "study,trial,best_trial=do_optuna_tuning()"
   ]
  },
  {
   "cell_type": "code",
   "execution_count": 44,
   "metadata": {},
   "outputs": [
    {
     "data": {
      "text/plain": [
       "FrozenTrial(number=42, state=TrialState.COMPLETE, values=[0.7263960286874875], datetime_start=datetime.datetime(2023, 2, 15, 15, 21, 46, 277616), datetime_complete=datetime.datetime(2023, 2, 15, 15, 22, 1, 890901), params={'num_leaves': 10, 'min_samples_split': 5, 'max_depth': 4, 'n_estimators': 212, 'learning_rate': 0.20301523697242135, 'reg_alpha': 0.6621121737222712, 'reg_lambda': 0.45890547125306674, 'feature_fraction': 0.9, 'random_state': 42}, user_attrs={'overfit': 0.044194259872910036}, system_attrs={}, intermediate_values={}, distributions={'num_leaves': IntDistribution(high=12, log=False, low=2, step=1), 'min_samples_split': IntDistribution(high=12, log=False, low=2, step=1), 'max_depth': IntDistribution(high=12, log=False, low=3, step=1), 'n_estimators': IntDistribution(high=600, log=False, low=100, step=1), 'learning_rate': FloatDistribution(high=0.3, log=False, low=0.01, step=None), 'reg_alpha': FloatDistribution(high=10.0, log=True, low=0.1, step=None), 'reg_lambda': FloatDistribution(high=10.0, log=True, low=0.1, step=None), 'feature_fraction': FloatDistribution(high=0.9, log=False, low=0.2, step=0.1)}, trial_id=42, value=None)"
      ]
     },
     "execution_count": 44,
     "metadata": {},
     "output_type": "execute_result"
    }
   ],
   "source": [
    "selected_trial = best_trial\n",
    "selected_trial"
   ]
  },
  {
   "cell_type": "code",
   "execution_count": 45,
   "metadata": {},
   "outputs": [
    {
     "data": {
      "text/plain": [
       "{'num_leaves': 10,\n",
       " 'min_samples_split': 5,\n",
       " 'max_depth': 4,\n",
       " 'n_estimators': 212,\n",
       " 'learning_rate': 0.20301523697242135,\n",
       " 'reg_alpha': 0.6621121737222712,\n",
       " 'reg_lambda': 0.45890547125306674,\n",
       " 'feature_fraction': 0.9,\n",
       " 'random_state': 42}"
      ]
     },
     "execution_count": 45,
     "metadata": {},
     "output_type": "execute_result"
    }
   ],
   "source": [
    "selected_params = {k:v for (k,v) in best_trial.params.items()}\n",
    "selected_params"
   ]
  },
  {
   "cell_type": "code",
   "execution_count": 47,
   "metadata": {},
   "outputs": [
    {
     "name": "stdout",
     "output_type": "stream",
     "text": [
      "[15:28:10] WARNING: /Users/runner/work/xgboost/xgboost/python-package/build/temp.macosx-10.9-x86_64-cpython-38/xgboost/src/learner.cc:767: \n",
      "Parameters: { \"feature_fraction\", \"min_samples_split\", \"num_leaves\" } are not used.\n",
      "\n",
      "CPU times: user 14.8 s, sys: 1.25 s, total: 16.1 s\n",
      "Wall time: 6.59 s\n"
     ]
    },
    {
     "data": {
      "text/plain": [
       "GridSearchCV(cv=3,\n",
       "             estimator=XGBClassifier(base_score=None, booster=None,\n",
       "                                     callbacks=None, colsample_bylevel=None,\n",
       "                                     colsample_bynode=None,\n",
       "                                     colsample_bytree=None,\n",
       "                                     early_stopping_rounds=None,\n",
       "                                     enable_categorical=False, eval_metric=None,\n",
       "                                     feature_types=None, gamma=None,\n",
       "                                     gpu_id=None, grow_policy=None,\n",
       "                                     importance_type=None,\n",
       "                                     interaction_constraints=None,\n",
       "                                     learning_rate=None,...\n",
       "                                     n_estimators=100, n_jobs=None,\n",
       "                                     num_parallel_tree=None, predictor=None,\n",
       "                                     random_state=42, ...),\n",
       "             n_jobs=5,\n",
       "             param_grid={'feature_fraction': [0.45890547125306674],\n",
       "                         'learning_rate': [0.20301523697242135],\n",
       "                         'max_depth': [4], 'min_samples_split': [5],\n",
       "                         'n_estimators': [212], 'num_leaves': [10],\n",
       "                         'random_state': [42],\n",
       "                         'reg_alpha': [0.6621121737222712],\n",
       "                         'reg_lambda': [0.8171377954100283]},\n",
       "             scoring='roc_auc')"
      ]
     },
     "execution_count": 47,
     "metadata": {},
     "output_type": "execute_result"
    }
   ],
   "source": [
    "%%time \n",
    "# Corrida ganadora - Entrenamos el modelo con el dataframe de Train y los parámetros ganadores:\n",
    "gc.collect()\n",
    "params =  {'num_leaves': [10],\n",
    "             'min_samples_split': [5],\n",
    "             'max_depth': [4],\n",
    "             'n_estimators': [212],\n",
    "             'learning_rate': [0.20301523697242135],\n",
    "             'reg_alpha': [0.6621121737222712],\n",
    "             'reg_lambda': [0.8171377954100283],\n",
    "             'feature_fraction': [0.45890547125306674],\n",
    "             'random_state': [42]}\n",
    "\n",
    "grid_search = GridSearchCV(estimator=model_xgboost, param_grid=params, \n",
    "                           cv=3, scoring='roc_auc', n_jobs=5)\n",
    "\n",
    "grid_search.fit(X_train,y_train)"
   ]
  },
  {
   "cell_type": "code",
   "execution_count": 48,
   "metadata": {},
   "outputs": [
    {
     "name": "stdout",
     "output_type": "stream",
     "text": [
      "\n",
      " All results:\n",
      "{'mean_fit_time': array([3.58357604]), 'std_fit_time': array([0.01381328]), 'mean_score_time': array([0.0434312]), 'std_score_time': array([0.00049669]), 'param_feature_fraction': masked_array(data=[0.45890547125306674],\n",
      "             mask=[False],\n",
      "       fill_value='?',\n",
      "            dtype=object), 'param_learning_rate': masked_array(data=[0.20301523697242135],\n",
      "             mask=[False],\n",
      "       fill_value='?',\n",
      "            dtype=object), 'param_max_depth': masked_array(data=[4],\n",
      "             mask=[False],\n",
      "       fill_value='?',\n",
      "            dtype=object), 'param_min_samples_split': masked_array(data=[5],\n",
      "             mask=[False],\n",
      "       fill_value='?',\n",
      "            dtype=object), 'param_n_estimators': masked_array(data=[212],\n",
      "             mask=[False],\n",
      "       fill_value='?',\n",
      "            dtype=object), 'param_num_leaves': masked_array(data=[10],\n",
      "             mask=[False],\n",
      "       fill_value='?',\n",
      "            dtype=object), 'param_random_state': masked_array(data=[42],\n",
      "             mask=[False],\n",
      "       fill_value='?',\n",
      "            dtype=object), 'param_reg_alpha': masked_array(data=[0.6621121737222712],\n",
      "             mask=[False],\n",
      "       fill_value='?',\n",
      "            dtype=object), 'param_reg_lambda': masked_array(data=[0.8171377954100283],\n",
      "             mask=[False],\n",
      "       fill_value='?',\n",
      "            dtype=object), 'params': [{'feature_fraction': 0.45890547125306674, 'learning_rate': 0.20301523697242135, 'max_depth': 4, 'min_samples_split': 5, 'n_estimators': 212, 'num_leaves': 10, 'random_state': 42, 'reg_alpha': 0.6621121737222712, 'reg_lambda': 0.8171377954100283}], 'split0_test_score': array([0.72191038]), 'split1_test_score': array([0.72193985]), 'split2_test_score': array([0.72231562]), 'mean_test_score': array([0.72205528]), 'std_test_score': array([0.00018448]), 'rank_test_score': array([1], dtype=int32)}\n",
      "\n",
      " Best estimator:\n",
      "XGBClassifier(base_score=None, booster=None, callbacks=None,\n",
      "              colsample_bylevel=None, colsample_bynode=None,\n",
      "              colsample_bytree=None, early_stopping_rounds=None,\n",
      "              enable_categorical=False, eval_metric=None,\n",
      "              feature_fraction=0.45890547125306674, feature_types=None,\n",
      "              gamma=None, gpu_id=None, grow_policy=None, importance_type=None,\n",
      "              interaction_constraints=None, learning_rate=0.20301523697242135,\n",
      "              max_bin=None, max_cat_threshold=None, max_cat_to_onehot=None,\n",
      "              max_delta_step=None, max_depth=4, max_leaves=None,\n",
      "              min_child_weight=None, min_samples_split=5, missing=nan,\n",
      "              monotone_constraints=None, n_estimators=212, n_jobs=None,\n",
      "              num_leaves=10, ...)\n",
      "\n",
      " Best hyperparameters:\n",
      "{'feature_fraction': 0.45890547125306674, 'learning_rate': 0.20301523697242135, 'max_depth': 4, 'min_samples_split': 5, 'n_estimators': 212, 'num_leaves': 10, 'random_state': 42, 'reg_alpha': 0.6621121737222712, 'reg_lambda': 0.8171377954100283}\n"
     ]
    }
   ],
   "source": [
    "print('\\n All results:')\n",
    "print(grid_search.cv_results_)\n",
    "print('\\n Best estimator:')\n",
    "print(grid_search.best_estimator_)\n",
    "print('\\n Best hyperparameters:')\n",
    "print(grid_search.best_params_)"
   ]
  },
  {
   "cell_type": "code",
   "execution_count": 49,
   "metadata": {},
   "outputs": [
    {
     "name": "stdout",
     "output_type": "stream",
     "text": [
      "[15:28:12] WARNING: /Users/runner/work/xgboost/xgboost/python-package/build/temp.macosx-10.9-x86_64-cpython-38/xgboost/src/learner.cc:767: \n",
      "Parameters: { \"feature_fraction\", \"metric\", \"min_samples_split\", \"num_leaves\", \"silent\" } are not used.\n",
      "\n"
     ]
    },
    {
     "data": {
      "text/plain": [
       "XGBClassifier(base_score=None, booster=None, callbacks=None,\n",
       "              colsample_bylevel=None, colsample_bynode=None,\n",
       "              colsample_bytree=None, early_stopping_rounds=None,\n",
       "              enable_categorical=False, eval_metric=None, feature_fraction=0.9,\n",
       "              feature_types=None, gamma=None, gpu_id=None, grow_policy=None,\n",
       "              importance_type=None, interaction_constraints=None,\n",
       "              learning_rate=0.20301523697242135, max_bin=None,\n",
       "              max_cat_threshold=None, max_cat_to_onehot=None,\n",
       "              max_delta_step=None, max_depth=4, max_leaves=None, metric='auc',\n",
       "              min_child_weight=None, min_samples_split=5, missing=nan,\n",
       "              monotone_constraints=None, n_estimators=212, n_jobs=None, ...)"
      ]
     },
     "execution_count": 49,
     "metadata": {},
     "output_type": "execute_result"
    }
   ],
   "source": [
    "xgb_model = XGBClassifier(**selected_params, \n",
    "                            silent=True, metric = 'auc')\n",
    "xgb_model.fit(X_train, y_train)"
   ]
  },
  {
   "cell_type": "code",
   "execution_count": 53,
   "metadata": {},
   "outputs": [
    {
     "name": "stdout",
     "output_type": "stream",
     "text": [
      "ROC XGBoost Opt Train: 0.7706\n",
      "ROC XGBoost Opt Test: 0.7264\n",
      "CPU times: user 479 ms, sys: 46.4 ms, total: 525 ms\n",
      "Wall time: 91.4 ms\n"
     ]
    }
   ],
   "source": [
    "%%time\n",
    "\n",
    "preds_xgb_train = xgb_model.predict_proba(X_train)[:,1]\n",
    "preds_xgb_test = xgb_model.predict_proba(X_test)[:,1]\n",
    "\n",
    "train_roc = round(roc_auc_score(y_train, preds_xgb_train) ,4) \n",
    "test_roc = round(roc_auc_score(y_test, preds_xgb_test) ,4)\n",
    "\n",
    "print(\"ROC XGBoost Opt Train: \" + str(train_roc))\n",
    "print(\"ROC XGBoost Opt Test: \" + str(test_roc))"
   ]
  },
  {
   "cell_type": "code",
   "execution_count": 54,
   "metadata": {},
   "outputs": [],
   "source": [
    "#Visualización de métricas de performance:\n",
    "#Train Modelo Nuevo\n",
    "fpr_train, tpr_train, _ = roc_curve(y_train, preds_xgb_train)\n",
    "roc_auc_train = auc(fpr_train, tpr_train)\n",
    "\n",
    "#Test Modelo Nuevo\n",
    "fpr_test, tpr_test, _ = roc_curve(y_test, preds_xgb_test)\n",
    "roc_auc_test = auc(fpr_test, tpr_test)"
   ]
  },
  {
   "cell_type": "code",
   "execution_count": 55,
   "metadata": {},
   "outputs": [
    {
     "data": {
      "image/png": "[encoded data removed]",
      "text/plain": [
       "<Figure size 720x576 with 1 Axes>"
      ]
     },
     "metadata": {
      "needs_background": "light"
     },
     "output_type": "display_data"
    }
   ],
   "source": [
    "plt.figure(figsize=(10,8))\n",
    "\n",
    "plt.plot(fpr_train, tpr_train, \n",
    "         color = 'green', \n",
    "         label = 'ROC Train (area = {:.4f})'.format(roc_auc_train), \n",
    "         lw = 1)\n",
    "plt.plot(fpr_test, tpr_test, \n",
    "         color = 'blue', \n",
    "         label = 'ROC Test (area = {:.4f})'.format(roc_auc_test), \n",
    "         lw = 1)\n",
    "plt.plot([0, 1], [0, 1], \n",
    "         color = 'magenta', \n",
    "         label = 'Random Guess', \n",
    "         lw = 2, \n",
    "         linestyle = '--')\n",
    "\n",
    "plt.xlim([0.0, 1.0])\n",
    "plt.ylim([0.0, 1.05])\n",
    "\n",
    "plt.xlabel('False Positive Rate')\n",
    "plt.ylabel('True Positive Rate')\n",
    "plt.legend(loc = \"lower right\")\n",
    "\n",
    "plt.show()"
   ]
  },
  {
   "cell_type": "code",
   "execution_count": 58,
   "metadata": {},
   "outputs": [
    {
     "name": "stdout",
     "output_type": "stream",
     "text": [
      "Threshold Train : [0.18748228251934052]\n",
      "Threshold Test : [0.182092547416687]\n"
     ]
    }
   ],
   "source": [
    "# Threshold a utilizar es train\n",
    "threshold_train = Find_Optimal_Cutoff(y_train, preds_xgb_train)\n",
    "\n",
    "threshold_test = Find_Optimal_Cutoff(y_test, preds_xgb_test)\n",
    "\n",
    "print(\"Threshold Train :\", threshold_train)\n",
    "print(\"Threshold Test :\", threshold_test)"
   ]
  },
  {
   "cell_type": "code",
   "execution_count": 60,
   "metadata": {},
   "outputs": [
    {
     "name": "stdout",
     "output_type": "stream",
     "text": [
      "Matriz de confusion : \n",
      " [[11341  5271]\n",
      " [ 1353  2485]]\n",
      "Valores : \n",
      " TN:  11341 \n",
      " FN:  1353 \n",
      " FP:  5271 \n",
      " TP:  2485\n",
      "Classification report : \n",
      "               precision    recall  f1-score   support\n",
      "\n",
      "           0       0.89      0.68      0.77     16612\n",
      "           1       0.32      0.65      0.43      3838\n",
      "\n",
      "    accuracy                           0.68     20450\n",
      "   macro avg       0.61      0.67      0.60     20450\n",
      "weighted avg       0.79      0.68      0.71     20450\n",
      "\n"
     ]
    }
   ],
   "source": [
    "predicted = []\n",
    "for x in preds_xgb_test:\n",
    "    if x >= threshold_train[0]:\n",
    "        predicted.append(1)\n",
    "    else:\n",
    "        predicted.append(0)\n",
    "\n",
    "# actual values\n",
    "actual = list(y_test)\n",
    "# predicted values\n",
    "predicted\n",
    "\n",
    "# confusion matrix\n",
    "matrix = confusion_matrix(actual,predicted, labels=[0,1])\n",
    "print('Matriz de confusion : \\n',matrix)\n",
    "\n",
    "# outcome values order in sklearn\n",
    "tn, fp, fn, tp = confusion_matrix(actual,predicted,labels=[0,1]).reshape(-1)\n",
    "print('Valores : \\n','TN: ',tn, '\\n','FN: ',fn,'\\n','FP: ',fp,'\\n', 'TP: ',tp)\n",
    "\n",
    "# classification report for precision, recall f1-score and accuracy\n",
    "matrix = classification_report(actual,predicted,labels=[0,1])\n",
    "print('Classification report : \\n',matrix)"
   ]
  },
  {
   "cell_type": "code",
   "execution_count": 62,
   "metadata": {},
   "outputs": [
    {
     "data": {
      "text/html": [
       "<div>\n",
       "<style scoped>\n",
       "    .dataframe tbody tr th:only-of-type {\n",
       "        vertical-align: middle;\n",
       "    }\n",
       "\n",
       "    .dataframe tbody tr th {\n",
       "        vertical-align: top;\n",
       "    }\n",
       "\n",
       "    .dataframe thead th {\n",
       "        text-align: right;\n",
       "    }\n",
       "</style>\n",
       "<table border=\"1\" class=\"dataframe\">\n",
       "  <thead>\n",
       "    <tr style=\"text-align: right;\">\n",
       "      <th></th>\n",
       "      <th>Variable</th>\n",
       "      <th>importance</th>\n",
       "    </tr>\n",
       "  </thead>\n",
       "  <tbody>\n",
       "    <tr>\n",
       "      <th>4</th>\n",
       "      <td>tipo_vuelo</td>\n",
       "      <td>0.330058</td>\n",
       "    </tr>\n",
       "    <tr>\n",
       "      <th>5</th>\n",
       "      <td>periodo_dia</td>\n",
       "      <td>0.087492</td>\n",
       "    </tr>\n",
       "    <tr>\n",
       "      <th>1</th>\n",
       "      <td>mes</td>\n",
       "      <td>0.078245</td>\n",
       "    </tr>\n",
       "    <tr>\n",
       "      <th>14</th>\n",
       "      <td>cod_aerolinea</td>\n",
       "      <td>0.069174</td>\n",
       "    </tr>\n",
       "    <tr>\n",
       "      <th>13</th>\n",
       "      <td>cod_destino</td>\n",
       "      <td>0.064680</td>\n",
       "    </tr>\n",
       "    <tr>\n",
       "      <th>8</th>\n",
       "      <td>Lunes</td>\n",
       "      <td>0.055931</td>\n",
       "    </tr>\n",
       "    <tr>\n",
       "      <th>2</th>\n",
       "      <td>temporada_alta</td>\n",
       "      <td>0.048162</td>\n",
       "    </tr>\n",
       "    <tr>\n",
       "      <th>12</th>\n",
       "      <td>Viernes</td>\n",
       "      <td>0.047001</td>\n",
       "    </tr>\n",
       "    <tr>\n",
       "      <th>7</th>\n",
       "      <td>Jueves</td>\n",
       "      <td>0.041353</td>\n",
       "    </tr>\n",
       "    <tr>\n",
       "      <th>0</th>\n",
       "      <td>dia</td>\n",
       "      <td>0.040863</td>\n",
       "    </tr>\n",
       "    <tr>\n",
       "      <th>6</th>\n",
       "      <td>Domingo</td>\n",
       "      <td>0.030875</td>\n",
       "    </tr>\n",
       "    <tr>\n",
       "      <th>3</th>\n",
       "      <td>estacion</td>\n",
       "      <td>0.029109</td>\n",
       "    </tr>\n",
       "    <tr>\n",
       "      <th>11</th>\n",
       "      <td>Sabado</td>\n",
       "      <td>0.029079</td>\n",
       "    </tr>\n",
       "    <tr>\n",
       "      <th>10</th>\n",
       "      <td>Miercoles</td>\n",
       "      <td>0.025206</td>\n",
       "    </tr>\n",
       "    <tr>\n",
       "      <th>9</th>\n",
       "      <td>Martes</td>\n",
       "      <td>0.022772</td>\n",
       "    </tr>\n",
       "  </tbody>\n",
       "</table>\n",
       "</div>"
      ],
      "text/plain": [
       "          Variable  importance\n",
       "4       tipo_vuelo    0.330058\n",
       "5      periodo_dia    0.087492\n",
       "1              mes    0.078245\n",
       "14   cod_aerolinea    0.069174\n",
       "13     cod_destino    0.064680\n",
       "8            Lunes    0.055931\n",
       "2   temporada_alta    0.048162\n",
       "12         Viernes    0.047001\n",
       "7           Jueves    0.041353\n",
       "0              dia    0.040863\n",
       "6          Domingo    0.030875\n",
       "3         estacion    0.029109\n",
       "11          Sabado    0.029079\n",
       "10       Miercoles    0.025206\n",
       "9           Martes    0.022772"
      ]
     },
     "execution_count": 62,
     "metadata": {},
     "output_type": "execute_result"
    }
   ],
   "source": [
    "feat_imp_xgb = pd.DataFrame()\n",
    "feat_imp_xgb['Variable'] = X_train.columns\n",
    "feat_imp_xgb['importance'] = xgb_model.feature_importances_\n",
    "feat_imp_xgb = feat_imp_xgb.sort_values(by='importance', ascending=False)\n",
    "feat_imp_xgb"
   ]
  },
  {
   "cell_type": "markdown",
   "metadata": {},
   "source": [
    "Si comparamos los modelos:\n",
    "\n",
    "LGBM Original:\n",
    "ROC LGBM Baseline Train: 0.7737\n",
    "ROC LGBM Baseline Test: 0.7286\n",
    "\n",
    "LGBM Optimizado:\n",
    "ROC LGBM Opt Train: 0.8126\n",
    "ROC LGBM Opt Test: 0.7315\n",
    "\n",
    "XGB Original:\n",
    "ROC XGBoost Baseline Train: 0.8273\n",
    "ROC XGBoost Baseline Test: 0.7321\n",
    "\n",
    "\n",
    "XGB Optimizado:\n",
    "ROC XGBoost Opt Train: 0.7706\n",
    "ROC XGBoost Opt Test: 0.7264\n",
    "\n",
    "Vemos que todos performan de manera muy similar. \n",
    "\n",
    "Un dato importante que podríamos destacar es que a medida en que optimizamos XGBoost, perdemos poder predictivo en test pero lo positivo es que la brecha entre train y test se achica, lo que implicaría que nuestro modelo overfittea menos. \n",
    "\n",
    "Por otro lado, si vemos LGBM, al optimizarlo la brecha entre train y test crece, pero tambien suben los rendimientos. \n",
    "\n",
    "Sin embargo, todos los resultados son muy similares y así mismo, al ser modelos de por si muy optimizados, la optimización extra no aporta poder predictivo ni cambios significativos en nuestros modelos.\n",
    "\n",
    "\n",
    "Para mejorar performance, podríamos incluir nuevas variables, por ejemplo cantidad de empleados de la aerolínea (si la aerolinea tiene poco personal, hay mas posibilidades de que se atrase el vuelo por falta de tripulacion), información sobre los feriados calendario, personal del aeropuerto, etc.\n",
    "Otra opción que creemos interesante probar, es sumar otro año más al dataset (ejemplo 2018), ya que como no son tantos registros, no nos llevaría tanto tiempo de procesamiento.\n",
    "\n",
    "Notamos que el tipo de vuelo, periodo del día (tarde, noche o mañana) y el mes del año, son variables muy importantes al momento de predecir.\n",
    "\n",
    "Sería bueno poder validar estos resultados con una base OOT (out of time), la cual no quisimos seleccionar de nuestra base inicial, debido a que queríamos realizar el entrenamiento con el año completo para que el modelo pueda captar la estacionalidad.\n"
   ]
  },
  {
   "cell_type": "code",
   "execution_count": null,
   "metadata": {},
   "outputs": [],
   "source": []
  }
 ],
 "metadata": {
  "colab": {
   "provenance": []
  },
  "kernelspec": {
   "display_name": "Python 3 (ipykernel)",
   "language": "python",
   "name": "python3"
  },
  "language_info": {
   "codemirror_mode": {
    "name": "ipython",
    "version": 3
   },
   "file_extension": ".py",
   "mimetype": "text/x-python",
   "name": "python",
   "nbconvert_exporter": "python",
   "pygments_lexer": "ipython3",
   "version": "3.9.7"
  }
 },
 "nbformat": 4,
 "nbformat_minor": 4
}
